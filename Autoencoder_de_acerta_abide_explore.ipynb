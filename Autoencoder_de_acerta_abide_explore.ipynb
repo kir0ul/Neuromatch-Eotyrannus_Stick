{
 "cells": [
  {
   "cell_type": "markdown",
   "metadata": {
    "id": "3hEI1n1CWEsc"
   },
   "source": [
    "# REPRESENTATION GROUP"
   ]
  },
  {
   "cell_type": "markdown",
   "metadata": {
    "id": "lkai-SB1g7Km"
   },
   "source": [
    "## PROJECT INFORMATION\n",
    "\n",
    "* **DATSET DESCRIPTION:**\n",
    "\n",
    "The Autism Brain Imaging Data Exchange I (ABIDE I) represents the first ABIDE initiative. Started as a grass roots effort, ABIDE I involved 17 international sites, sharing previously collected resting state functional magnetic resonance imaging (Rs-fMRI), anatomical and phenotypic datasets made available for data sharing with the broader scientific community. This effort yielded 1112 dataset, including 539 from individuals with ASD and 573 from typical controls (ages 7-64 years, median 14.7 years across groups). This aggregate was released in August 2012. Its establishment demonstrated the feasibility of aggregating resting state fMRI and structural MRI data across sites; the rate of these data use and resulting publications (see Manuscripts) have shown its utility for capturing whole brain and regional properties of the brain connectome in Autism Spectrum Disorder (ASD). In accordance with HIPAA guidelines and 1000 Functional Connectomes Project / INDI protocols, all datasets have been anonymized, with no protected health information included. Below, are the specific types of information included in ABIDE I, the data usage agreement, sign up and data download links. http://fcon_1000.projects.nitrc.org/indi/abide/abide_I.html\n",
    "\n",
    "Firt development = 160 subjects NYU Center\n",
    "\n",
    "* **BRAIN PARCELLATION:**\n",
    "\n",
    "Craddock atlas, 200 Regions of Interest. It is a data-driven method for generating an ROI atlas by parcellating whole brain resting-state fMRI data into spatially coherent regions of homogeneous FC. Generated via spatially constrained spectral clustering (Fine-grained random parcellations informed by rs-fMRI data). This atlas were generated using a variety of parcellation strategies applied to a dataset of 41 healthy controls. https://onlinelibrary.wiley.com/doi/full/10.1002/hbm.21333\n",
    "\n",
    " * **RESEARCH QUESTION**\n",
    "\n",
    " Can deep learning models accurately classify individuals with autism spectrum disorder (ASD) and neurotypical individuals based on fMRI data, and what are the potential biases in the model's performance, particularly with respect to sex (e.g., classifying autistic females)?\n",
    "\n",
    " * **HYPOTHESIS**\n",
    "\n",
    " Deep learning models can exhibit biases in their classification of individuals with autism spectrum disorder (ASD) and neurotypical individuals, influenced by the subject's sex. These biases may arise from either intrinsic significant brain activity differences or biases in diagnosis parameters."
   ]
  },
  {
   "cell_type": "code",
   "execution_count": 1,
   "metadata": {
    "colab": {
     "base_uri": "https://localhost:8080/"
    },
    "id": "LhgjweX--FNI",
    "outputId": "ea01cdb5-aee9-48c6-f958-423d794064c7"
   },
   "outputs": [
    {
     "name": "stdout",
     "output_type": "stream",
     "text": [
      "Requirement already satisfied: davos in ./venv/lib/python3.11/site-packages (0.1.1)\n",
      "Requirement already satisfied: packaging in ./venv/lib/python3.11/site-packages (from davos) (23.1)\n",
      "Requirement already satisfied: setuptools in ./venv/lib/python3.11/site-packages (from davos) (65.6.3)\n",
      "Note: you may need to restart the kernel to use updated packages.\n"
     ]
    }
   ],
   "source": [
    "# davos is nice for managing notebook dependencies-- just change \"import\" to\n",
    "# \"smuggle\" after this cell and libraries will install automatically as needed\n",
    "%pip install davos\n",
    "import davos\n",
    "davos.config.suppress_stdout = True"
   ]
  },
  {
   "cell_type": "code",
   "execution_count": 2,
   "metadata": {
    "id": "2SU-wZ3vEUVE"
   },
   "outputs": [],
   "source": [
    "# Python libs\n",
    "from pathlib smuggle Path\n",
    "smuggle math\n",
    "smuggle os\n",
    "\n",
    "# Scientific computation and data analysis\n",
    "smuggle numpy as np\n",
    "smuggle pandas as pd\n",
    "from scipy.io smuggle loadmat\n",
    "smuggle random\n",
    "\n",
    "# Neuroimaging libraries\n",
    "smuggle nilearn\n",
    "smuggle nibabel as nib\n",
    "from nilearn smuggle datasets\n",
    "\n",
    "# Plot libraries\n",
    "smuggle matplotlib.pyplot as plt\n",
    "from matplotlib.colors smuggle ListedColormap\n",
    "from heatmap smuggle heatmap, corrplot   # pip: heatmapz\n",
    "from nilearn smuggle plotting\n",
    "from nilearn.connectome smuggle ConnectivityMeasure\n",
    "smuggle seaborn as sns\n",
    "sns.set(font_scale=1.4) # for label size\n",
    "\n",
    "# Misc\n",
    "smuggle pickle  # To save/load Python objects to disk\n",
    "# from google.colab smuggle drive  # To access Google Drive data\n",
    "from tqdm.auto import tqdm\n",
    "from IPython.display import display\n",
    "import warnings\n",
    "\n",
    "# DL\n",
    "smuggle torch\n",
    "from torch.utils.data smuggle DataLoader, TensorDataset\n",
    "from sklearn.model_selection smuggle train_test_split\n",
    "import torch.nn as nn\n",
    "import torch.optim as optim"
   ]
  },
  {
   "cell_type": "code",
   "execution_count": 3,
   "metadata": {
    "id": "tj9FBdNjZ375"
   },
   "outputs": [],
   "source": [
    "# @markdown Executing `set_seed(seed=seed)` you are setting the seed\n",
    "\n",
    "# For DL its critical to set the random seed so that students can have a\n",
    "# baseline to compare their results to expected results.\n",
    "# Read more here: https://pytorch.org/docs/stable/notes/randomness.html\n",
    "\n",
    "# Call `set_seed` function in the exercises to ensure reproducibility.\n",
    "# import random\n",
    "# import torch\n",
    "\n",
    "def set_seed(seed=None, seed_torch=True):\n",
    "  \"\"\"\n",
    "  Function that controls randomness. NumPy and random modules must be imported.\n",
    "\n",
    "  Args:\n",
    "    seed : Integer\n",
    "      A non-negative integer that defines the random state. Default is `None`.\n",
    "    seed_torch : Boolean\n",
    "      If `True` sets the random seed for pytorch tensors, so pytorch module\n",
    "      must be imported. Default is `True`.\n",
    "\n",
    "  Returns:\n",
    "    Nothing.\n",
    "  \"\"\"\n",
    "  if seed is None:\n",
    "    seed = np.random.choice(2 ** 32)\n",
    "  random.seed(seed)\n",
    "  np.random.seed(seed)\n",
    "  if seed_torch:\n",
    "    torch.manual_seed(seed)\n",
    "    torch.cuda.manual_seed_all(seed)\n",
    "    torch.cuda.manual_seed(seed)\n",
    "    torch.backends.cudnn.benchmark = False\n",
    "    torch.backends.cudnn.deterministic = True\n",
    "\n",
    "  print(f'Random seed {seed} has been set.')\n",
    "\n",
    "\n",
    "# In case that `DataLoader` is used\n",
    "def seed_worker(worker_id):\n",
    "  \"\"\"\n",
    "  DataLoader will reseed workers following randomness in\n",
    "  multi-process data loading algorithm.\n",
    "\n",
    "  Args:\n",
    "    worker_id: integer\n",
    "      ID of subprocess to seed. 0 means that\n",
    "      the data will be loaded in the main process\n",
    "      Refer: https://pytorch.org/docs/stable/data.html#data-loading-randomness for more details\n",
    "\n",
    "  Returns:\n",
    "    Nothing\n",
    "  \"\"\"\n",
    "  worker_seed = torch.initial_seed() % 2**32\n",
    "  np.random.seed(worker_seed)\n",
    "  random.seed(worker_seed)"
   ]
  },
  {
   "cell_type": "code",
   "execution_count": 4,
   "metadata": {
    "colab": {
     "base_uri": "https://localhost:8080/"
    },
    "id": "uBqTnSQil9aQ",
    "outputId": "057e938b-8f28-4860-83b8-383d75ae81b9"
   },
   "outputs": [
    {
     "name": "stdout",
     "output_type": "stream",
     "text": [
      "Random seed 2021 has been set.\n"
     ]
    }
   ],
   "source": [
    "SEED = 2021\n",
    "set_seed(seed=SEED)"
   ]
  },
  {
   "cell_type": "code",
   "execution_count": 5,
   "metadata": {
    "id": "IPhoIPTdlurX"
   },
   "outputs": [],
   "source": [
    "# Inform the user if the notebook uses GPU or CPU.\n",
    "\n",
    "def set_device():\n",
    "  \"\"\"\n",
    "  Set the device. CUDA if available, CPU otherwise\n",
    "\n",
    "  Args:\n",
    "    None\n",
    "\n",
    "  Returns:\n",
    "    Nothing\n",
    "  \"\"\"\n",
    "  device = \"cuda\" if torch.cuda.is_available() else \"cpu\"\n",
    "  if device != \"cuda\":\n",
    "    print(\"GPU is not enabled in this notebook. \\n\"\n",
    "          \"If you want to enable it, in the menu under `Runtime` -> \\n\"\n",
    "          \"`Hardware accelerator.` and select `GPU` from the dropdown menu\")\n",
    "  else:\n",
    "    print(\"GPU is enabled in this notebook. \\n\"\n",
    "          \"If you want to disable it, in the menu under `Runtime` -> \\n\"\n",
    "          \"`Hardware accelerator.` and select `None` from the dropdown menu\")\n",
    "\n",
    "  return device"
   ]
  },
  {
   "cell_type": "code",
   "execution_count": 6,
   "metadata": {
    "colab": {
     "base_uri": "https://localhost:8080/"
    },
    "id": "YrHL1Bj0l2Og",
    "outputId": "dda9bd64-9281-4ab4-bc83-7ba5e87dfeee"
   },
   "outputs": [
    {
     "name": "stdout",
     "output_type": "stream",
     "text": [
      "GPU is enabled in this notebook. \n",
      "If you want to disable it, in the menu under `Runtime` -> \n",
      "`Hardware accelerator.` and select `None` from the dropdown menu\n"
     ]
    }
   ],
   "source": [
    "device = set_device()"
   ]
  },
  {
   "cell_type": "code",
   "execution_count": 7,
   "metadata": {
    "colab": {
     "base_uri": "https://localhost:8080/"
    },
    "id": "3PEdG7udljP6",
    "outputId": "7823dcac-87f4-44d6-b6c9-64268b25544e"
   },
   "outputs": [],
   "source": [
    "# # Mount the Google Drive to access data\n",
    "# # Needs to log in in a separate window\n",
    "# gdrive = \"/content/drive\"\n",
    "# drive.mount(gdrive)\n",
    "# nma_drive = Path(\"/content/drive/Shareddrives/Neuromatch-Eotyrannus_Stick\")\n",
    "nma_drive = Path(\".\")\n",
    "abide_path = Path(nma_drive / \"ABIDE_pcp\")\n",
    "\n",
    "if not abide_path.exists():\n",
    "  raise FileNotFoundError('Running this notebook requires access to the shared Google Drive folder')"
   ]
  },
  {
   "cell_type": "code",
   "execution_count": 8,
   "metadata": {
    "colab": {
     "base_uri": "https://localhost:8080/",
     "height": 540
    },
    "id": "Rj8Z7v4mlqc3",
    "outputId": "8bd6d251-9f53-4777-df07-7410e64095c8"
   },
   "outputs": [
    {
     "data": {
      "text/html": [
       "<div>\n",
       "<style scoped>\n",
       "    .dataframe tbody tr th:only-of-type {\n",
       "        vertical-align: middle;\n",
       "    }\n",
       "\n",
       "    .dataframe tbody tr th {\n",
       "        vertical-align: top;\n",
       "    }\n",
       "\n",
       "    .dataframe thead th {\n",
       "        text-align: right;\n",
       "    }\n",
       "</style>\n",
       "<table border=\"1\" class=\"dataframe\">\n",
       "  <thead>\n",
       "    <tr style=\"text-align: right;\">\n",
       "      <th></th>\n",
       "      <th>Unnamed: 0.1</th>\n",
       "      <th>Unnamed: 0</th>\n",
       "      <th>SUB_ID</th>\n",
       "      <th>X</th>\n",
       "      <th>subject</th>\n",
       "      <th>SITE_ID</th>\n",
       "      <th>FILE_ID</th>\n",
       "      <th>DX_GROUP</th>\n",
       "      <th>DSM_IV_TR</th>\n",
       "      <th>AGE_AT_SCAN</th>\n",
       "      <th>...</th>\n",
       "      <th>qc_notes_rater_1</th>\n",
       "      <th>qc_anat_rater_2</th>\n",
       "      <th>qc_anat_notes_rater_2</th>\n",
       "      <th>qc_func_rater_2</th>\n",
       "      <th>qc_func_notes_rater_2</th>\n",
       "      <th>qc_anat_rater_3</th>\n",
       "      <th>qc_anat_notes_rater_3</th>\n",
       "      <th>qc_func_rater_3</th>\n",
       "      <th>qc_func_notes_rater_3</th>\n",
       "      <th>SUB_IN_SMP</th>\n",
       "    </tr>\n",
       "  </thead>\n",
       "  <tbody>\n",
       "    <tr>\n",
       "      <th>0</th>\n",
       "      <td>0</td>\n",
       "      <td>1</td>\n",
       "      <td>50002</td>\n",
       "      <td>1</td>\n",
       "      <td>50002</td>\n",
       "      <td>PITT</td>\n",
       "      <td>no_filename</td>\n",
       "      <td>1</td>\n",
       "      <td>1</td>\n",
       "      <td>16.77</td>\n",
       "      <td>...</td>\n",
       "      <td>NaN</td>\n",
       "      <td>OK</td>\n",
       "      <td>NaN</td>\n",
       "      <td>fail</td>\n",
       "      <td>ic-parietal-cerebellum</td>\n",
       "      <td>OK</td>\n",
       "      <td>NaN</td>\n",
       "      <td>fail</td>\n",
       "      <td>ERROR #24</td>\n",
       "      <td>1</td>\n",
       "    </tr>\n",
       "    <tr>\n",
       "      <th>1</th>\n",
       "      <td>1</td>\n",
       "      <td>2</td>\n",
       "      <td>50003</td>\n",
       "      <td>2</td>\n",
       "      <td>50003</td>\n",
       "      <td>PITT</td>\n",
       "      <td>Pitt_0050003</td>\n",
       "      <td>1</td>\n",
       "      <td>1</td>\n",
       "      <td>24.45</td>\n",
       "      <td>...</td>\n",
       "      <td>NaN</td>\n",
       "      <td>OK</td>\n",
       "      <td>NaN</td>\n",
       "      <td>OK</td>\n",
       "      <td>NaN</td>\n",
       "      <td>OK</td>\n",
       "      <td>NaN</td>\n",
       "      <td>OK</td>\n",
       "      <td>NaN</td>\n",
       "      <td>1</td>\n",
       "    </tr>\n",
       "    <tr>\n",
       "      <th>2</th>\n",
       "      <td>2</td>\n",
       "      <td>3</td>\n",
       "      <td>50004</td>\n",
       "      <td>3</td>\n",
       "      <td>50004</td>\n",
       "      <td>PITT</td>\n",
       "      <td>Pitt_0050004</td>\n",
       "      <td>1</td>\n",
       "      <td>1</td>\n",
       "      <td>19.09</td>\n",
       "      <td>...</td>\n",
       "      <td>NaN</td>\n",
       "      <td>OK</td>\n",
       "      <td>NaN</td>\n",
       "      <td>OK</td>\n",
       "      <td>NaN</td>\n",
       "      <td>OK</td>\n",
       "      <td>NaN</td>\n",
       "      <td>OK</td>\n",
       "      <td>NaN</td>\n",
       "      <td>1</td>\n",
       "    </tr>\n",
       "    <tr>\n",
       "      <th>3</th>\n",
       "      <td>3</td>\n",
       "      <td>4</td>\n",
       "      <td>50005</td>\n",
       "      <td>4</td>\n",
       "      <td>50005</td>\n",
       "      <td>PITT</td>\n",
       "      <td>Pitt_0050005</td>\n",
       "      <td>1</td>\n",
       "      <td>1</td>\n",
       "      <td>13.73</td>\n",
       "      <td>...</td>\n",
       "      <td>NaN</td>\n",
       "      <td>OK</td>\n",
       "      <td>NaN</td>\n",
       "      <td>maybe</td>\n",
       "      <td>ic-parietal-cerebellum</td>\n",
       "      <td>OK</td>\n",
       "      <td>NaN</td>\n",
       "      <td>OK</td>\n",
       "      <td>NaN</td>\n",
       "      <td>0</td>\n",
       "    </tr>\n",
       "    <tr>\n",
       "      <th>4</th>\n",
       "      <td>4</td>\n",
       "      <td>5</td>\n",
       "      <td>50006</td>\n",
       "      <td>5</td>\n",
       "      <td>50006</td>\n",
       "      <td>PITT</td>\n",
       "      <td>Pitt_0050006</td>\n",
       "      <td>1</td>\n",
       "      <td>1</td>\n",
       "      <td>13.37</td>\n",
       "      <td>...</td>\n",
       "      <td>NaN</td>\n",
       "      <td>OK</td>\n",
       "      <td>NaN</td>\n",
       "      <td>maybe</td>\n",
       "      <td>ic-parietal slight</td>\n",
       "      <td>OK</td>\n",
       "      <td>NaN</td>\n",
       "      <td>OK</td>\n",
       "      <td>NaN</td>\n",
       "      <td>1</td>\n",
       "    </tr>\n",
       "    <tr>\n",
       "      <th>...</th>\n",
       "      <td>...</td>\n",
       "      <td>...</td>\n",
       "      <td>...</td>\n",
       "      <td>...</td>\n",
       "      <td>...</td>\n",
       "      <td>...</td>\n",
       "      <td>...</td>\n",
       "      <td>...</td>\n",
       "      <td>...</td>\n",
       "      <td>...</td>\n",
       "      <td>...</td>\n",
       "      <td>...</td>\n",
       "      <td>...</td>\n",
       "      <td>...</td>\n",
       "      <td>...</td>\n",
       "      <td>...</td>\n",
       "      <td>...</td>\n",
       "      <td>...</td>\n",
       "      <td>...</td>\n",
       "      <td>...</td>\n",
       "      <td>...</td>\n",
       "    </tr>\n",
       "    <tr>\n",
       "      <th>1107</th>\n",
       "      <td>1107</td>\n",
       "      <td>1108</td>\n",
       "      <td>51583</td>\n",
       "      <td>1108</td>\n",
       "      <td>51583</td>\n",
       "      <td>SBL</td>\n",
       "      <td>SBL_0051583</td>\n",
       "      <td>1</td>\n",
       "      <td>2</td>\n",
       "      <td>35.00</td>\n",
       "      <td>...</td>\n",
       "      <td>NaN</td>\n",
       "      <td>OK</td>\n",
       "      <td>NaN</td>\n",
       "      <td>OK</td>\n",
       "      <td>ic-cerebellum-temporal_lobe</td>\n",
       "      <td>OK</td>\n",
       "      <td>NaN</td>\n",
       "      <td>OK</td>\n",
       "      <td>NaN</td>\n",
       "      <td>0</td>\n",
       "    </tr>\n",
       "    <tr>\n",
       "      <th>1108</th>\n",
       "      <td>1108</td>\n",
       "      <td>1109</td>\n",
       "      <td>51584</td>\n",
       "      <td>1109</td>\n",
       "      <td>51584</td>\n",
       "      <td>SBL</td>\n",
       "      <td>SBL_0051584</td>\n",
       "      <td>1</td>\n",
       "      <td>2</td>\n",
       "      <td>49.00</td>\n",
       "      <td>...</td>\n",
       "      <td>NaN</td>\n",
       "      <td>OK</td>\n",
       "      <td>NaN</td>\n",
       "      <td>maybe</td>\n",
       "      <td>vmpfc dropout</td>\n",
       "      <td>OK</td>\n",
       "      <td>NaN</td>\n",
       "      <td>OK</td>\n",
       "      <td>NaN</td>\n",
       "      <td>0</td>\n",
       "    </tr>\n",
       "    <tr>\n",
       "      <th>1109</th>\n",
       "      <td>1109</td>\n",
       "      <td>1110</td>\n",
       "      <td>51585</td>\n",
       "      <td>1110</td>\n",
       "      <td>51585</td>\n",
       "      <td>SBL</td>\n",
       "      <td>SBL_0051585</td>\n",
       "      <td>1</td>\n",
       "      <td>1</td>\n",
       "      <td>27.00</td>\n",
       "      <td>...</td>\n",
       "      <td>NaN</td>\n",
       "      <td>OK</td>\n",
       "      <td>NaN</td>\n",
       "      <td>maybe</td>\n",
       "      <td>ic-cerebellum-temporal_lobe</td>\n",
       "      <td>OK</td>\n",
       "      <td>NaN</td>\n",
       "      <td>OK</td>\n",
       "      <td>NaN</td>\n",
       "      <td>0</td>\n",
       "    </tr>\n",
       "    <tr>\n",
       "      <th>1110</th>\n",
       "      <td>1110</td>\n",
       "      <td>1111</td>\n",
       "      <td>51606</td>\n",
       "      <td>1111</td>\n",
       "      <td>51606</td>\n",
       "      <td>MAX_MUN</td>\n",
       "      <td>MaxMun_a_0051606</td>\n",
       "      <td>1</td>\n",
       "      <td>2</td>\n",
       "      <td>29.00</td>\n",
       "      <td>...</td>\n",
       "      <td>NaN</td>\n",
       "      <td>OK</td>\n",
       "      <td>NaN</td>\n",
       "      <td>maybe</td>\n",
       "      <td>ic-cerebellum</td>\n",
       "      <td>OK</td>\n",
       "      <td>NaN</td>\n",
       "      <td>OK</td>\n",
       "      <td>NaN</td>\n",
       "      <td>0</td>\n",
       "    </tr>\n",
       "    <tr>\n",
       "      <th>1111</th>\n",
       "      <td>1111</td>\n",
       "      <td>1112</td>\n",
       "      <td>51607</td>\n",
       "      <td>1112</td>\n",
       "      <td>51607</td>\n",
       "      <td>MAX_MUN</td>\n",
       "      <td>MaxMun_a_0051607</td>\n",
       "      <td>1</td>\n",
       "      <td>2</td>\n",
       "      <td>26.00</td>\n",
       "      <td>...</td>\n",
       "      <td>NaN</td>\n",
       "      <td>OK</td>\n",
       "      <td>NaN</td>\n",
       "      <td>maybe</td>\n",
       "      <td>ic-cerebellum</td>\n",
       "      <td>OK</td>\n",
       "      <td>NaN</td>\n",
       "      <td>OK</td>\n",
       "      <td>NaN</td>\n",
       "      <td>1</td>\n",
       "    </tr>\n",
       "  </tbody>\n",
       "</table>\n",
       "<p>1112 rows × 106 columns</p>\n",
       "</div>"
      ],
      "text/plain": [
       "      Unnamed: 0.1  Unnamed: 0  SUB_ID     X  subject  SITE_ID  \\\n",
       "0                0           1   50002     1    50002     PITT   \n",
       "1                1           2   50003     2    50003     PITT   \n",
       "2                2           3   50004     3    50004     PITT   \n",
       "3                3           4   50005     4    50005     PITT   \n",
       "4                4           5   50006     5    50006     PITT   \n",
       "...            ...         ...     ...   ...      ...      ...   \n",
       "1107          1107        1108   51583  1108    51583      SBL   \n",
       "1108          1108        1109   51584  1109    51584      SBL   \n",
       "1109          1109        1110   51585  1110    51585      SBL   \n",
       "1110          1110        1111   51606  1111    51606  MAX_MUN   \n",
       "1111          1111        1112   51607  1112    51607  MAX_MUN   \n",
       "\n",
       "               FILE_ID  DX_GROUP  DSM_IV_TR  AGE_AT_SCAN  ...  \\\n",
       "0          no_filename         1          1        16.77  ...   \n",
       "1         Pitt_0050003         1          1        24.45  ...   \n",
       "2         Pitt_0050004         1          1        19.09  ...   \n",
       "3         Pitt_0050005         1          1        13.73  ...   \n",
       "4         Pitt_0050006         1          1        13.37  ...   \n",
       "...                ...       ...        ...          ...  ...   \n",
       "1107       SBL_0051583         1          2        35.00  ...   \n",
       "1108       SBL_0051584         1          2        49.00  ...   \n",
       "1109       SBL_0051585         1          1        27.00  ...   \n",
       "1110  MaxMun_a_0051606         1          2        29.00  ...   \n",
       "1111  MaxMun_a_0051607         1          2        26.00  ...   \n",
       "\n",
       "      qc_notes_rater_1 qc_anat_rater_2  qc_anat_notes_rater_2  \\\n",
       "0                  NaN              OK                    NaN   \n",
       "1                  NaN              OK                    NaN   \n",
       "2                  NaN              OK                    NaN   \n",
       "3                  NaN              OK                    NaN   \n",
       "4                  NaN              OK                    NaN   \n",
       "...                ...             ...                    ...   \n",
       "1107               NaN              OK                    NaN   \n",
       "1108               NaN              OK                    NaN   \n",
       "1109               NaN              OK                    NaN   \n",
       "1110               NaN              OK                    NaN   \n",
       "1111               NaN              OK                    NaN   \n",
       "\n",
       "      qc_func_rater_2        qc_func_notes_rater_2  qc_anat_rater_3  \\\n",
       "0                fail       ic-parietal-cerebellum               OK   \n",
       "1                  OK                          NaN               OK   \n",
       "2                  OK                          NaN               OK   \n",
       "3               maybe       ic-parietal-cerebellum               OK   \n",
       "4               maybe           ic-parietal slight               OK   \n",
       "...               ...                          ...              ...   \n",
       "1107               OK  ic-cerebellum-temporal_lobe               OK   \n",
       "1108            maybe                vmpfc dropout               OK   \n",
       "1109            maybe  ic-cerebellum-temporal_lobe               OK   \n",
       "1110            maybe                ic-cerebellum               OK   \n",
       "1111            maybe                ic-cerebellum               OK   \n",
       "\n",
       "     qc_anat_notes_rater_3 qc_func_rater_3 qc_func_notes_rater_3  SUB_IN_SMP  \n",
       "0                      NaN            fail             ERROR #24           1  \n",
       "1                      NaN              OK                   NaN           1  \n",
       "2                      NaN              OK                   NaN           1  \n",
       "3                      NaN              OK                   NaN           0  \n",
       "4                      NaN              OK                   NaN           1  \n",
       "...                    ...             ...                   ...         ...  \n",
       "1107                   NaN              OK                   NaN           0  \n",
       "1108                   NaN              OK                   NaN           0  \n",
       "1109                   NaN              OK                   NaN           0  \n",
       "1110                   NaN              OK                   NaN           0  \n",
       "1111                   NaN              OK                   NaN           1  \n",
       "\n",
       "[1112 rows x 106 columns]"
      ]
     },
     "execution_count": 8,
     "metadata": {},
     "output_type": "execute_result"
    }
   ],
   "source": [
    "# Load the already saved CSV file from the drive\n",
    "Phenotypic_V1_0b_path = Path(abide_path / \"Phenotypic_V1_0b_preprocessed1.csv\")\n",
    "Phenotypic_V1_0b_dat = pd.read_csv(Phenotypic_V1_0b_path)\n",
    "Phenotypic_V1_0b_dat"
   ]
  },
  {
   "cell_type": "code",
   "execution_count": 9,
   "metadata": {
    "colab": {
     "base_uri": "https://localhost:8080/"
    },
    "id": "nHcNOTSZmAdi",
    "outputId": "6de8914a-56e8-48ec-84f0-8d1a25074e3b"
   },
   "outputs": [
    {
     "data": {
      "text/plain": [
       "643    50952\n",
       "644    50953\n",
       "645    50954\n",
       "646    50955\n",
       "647    50956\n",
       "       ...  \n",
       "833    51153\n",
       "834    51154\n",
       "835    51155\n",
       "836    51156\n",
       "837    51159\n",
       "Name: SUB_ID, Length: 184, dtype: int64"
      ]
     },
     "execution_count": 9,
     "metadata": {},
     "output_type": "execute_result"
    }
   ],
   "source": [
    "# Get all the subject IDs from NYU\n",
    "subject_list = Phenotypic_V1_0b_dat[Phenotypic_V1_0b_dat.SITE_ID == \"NYU\"].SUB_ID\n",
    "subject_list"
   ]
  },
  {
   "cell_type": "code",
   "execution_count": 10,
   "metadata": {
    "id": "2f6dOw_13GLS"
   },
   "outputs": [],
   "source": [
    "# Download the dataset\n",
    "if not nma_drive.joinpath('abide_pcp_whole.pkl').exists():\n",
    "    abide = datasets.fetch_abide_pcp(data_dir=nma_drive, pipeline = \"cpac\", derivatives = [\"func_preproc\", \"rois_cc200\"], quality_checked = True, legacy_format = False)#, SUB_ID = list(subject_list))\n",
    "    \n",
    "    # # Then save the dataset to the drive as a Pickle file\n",
    "    # # Only need to do it once\n",
    "    with open(nma_drive / \"abide_pcp_whole.pkl\", \"wb\") as fid:\n",
    "      pickle.dump(abide, fid)"
   ]
  },
  {
   "cell_type": "code",
   "execution_count": 11,
   "metadata": {
    "id": "oFnQV9Y-mtMd"
   },
   "outputs": [],
   "source": [
    "# Load the dataset from the drive\n",
    "with open(nma_drive / \"abide_pcp_whole.pkl\", \"rb\") as f:\n",
    "    abide = pickle.load(f)\n",
    "# abide"
   ]
  },
  {
   "cell_type": "markdown",
   "metadata": {
    "id": "xVbbkziNNUP8"
   },
   "source": [
    "![image.png](data:image/png;base64,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)"
   ]
  },
  {
   "cell_type": "markdown",
   "metadata": {
    "id": "LStqFWcyHglO"
   },
   "source": [
    "Until now, we have 160 subjects, with functional images in .nii format and parcelled with Craddock atlas, 200 ROIS"
   ]
  },
  {
   "cell_type": "code",
   "execution_count": 12,
   "metadata": {
    "colab": {
     "base_uri": "https://localhost:8080/"
    },
    "id": "0Cmj1YOWA31M",
    "outputId": "4f762097-cf29-401a-98f9-98d9715a8dbc"
   },
   "outputs": [
    {
     "name": "stdout",
     "output_type": "stream",
     "text": [
      "dict_keys(['description', 'phenotypic', 'func_preproc', 'rois_cc200'])\n"
     ]
    }
   ],
   "source": [
    "print(abide.keys())"
   ]
  },
  {
   "cell_type": "code",
   "execution_count": 13,
   "metadata": {
    "colab": {
     "base_uri": "https://localhost:8080/"
    },
    "id": "-fDQPMrPOC8E",
    "outputId": "cbaf25f7-a00f-4173-a561-3b7d3434aa37"
   },
   "outputs": [
    {
     "data": {
      "text/plain": [
       "871"
      ]
     },
     "execution_count": 13,
     "metadata": {},
     "output_type": "execute_result"
    }
   ],
   "source": [
    "len(abide.rois_cc200)"
   ]
  },
  {
   "cell_type": "code",
   "execution_count": 14,
   "metadata": {
    "colab": {
     "base_uri": "https://localhost:8080/",
     "height": 505
    },
    "id": "h_PZyg-6Iaa2",
    "outputId": "6d80199a-a983-4e12-9992-d86caec83e67"
   },
   "outputs": [
    {
     "data": {
      "text/html": [
       "<div>\n",
       "<style scoped>\n",
       "    .dataframe tbody tr th:only-of-type {\n",
       "        vertical-align: middle;\n",
       "    }\n",
       "\n",
       "    .dataframe tbody tr th {\n",
       "        vertical-align: top;\n",
       "    }\n",
       "\n",
       "    .dataframe thead th {\n",
       "        text-align: right;\n",
       "    }\n",
       "</style>\n",
       "<table border=\"1\" class=\"dataframe\">\n",
       "  <thead>\n",
       "    <tr style=\"text-align: right;\">\n",
       "      <th></th>\n",
       "      <th>i</th>\n",
       "      <th>Unnamed: 0</th>\n",
       "      <th>SUB_ID</th>\n",
       "      <th>X</th>\n",
       "      <th>subject</th>\n",
       "      <th>SITE_ID</th>\n",
       "      <th>FILE_ID</th>\n",
       "      <th>DX_GROUP</th>\n",
       "      <th>DSM_IV_TR</th>\n",
       "      <th>AGE_AT_SCAN</th>\n",
       "      <th>...</th>\n",
       "      <th>qc_notes_rater_1</th>\n",
       "      <th>qc_anat_rater_2</th>\n",
       "      <th>qc_anat_notes_rater_2</th>\n",
       "      <th>qc_func_rater_2</th>\n",
       "      <th>qc_func_notes_rater_2</th>\n",
       "      <th>qc_anat_rater_3</th>\n",
       "      <th>qc_anat_notes_rater_3</th>\n",
       "      <th>qc_func_rater_3</th>\n",
       "      <th>qc_func_notes_rater_3</th>\n",
       "      <th>SUB_IN_SMP</th>\n",
       "    </tr>\n",
       "  </thead>\n",
       "  <tbody>\n",
       "    <tr>\n",
       "      <th>1</th>\n",
       "      <td>1</td>\n",
       "      <td>2</td>\n",
       "      <td>50003</td>\n",
       "      <td>2</td>\n",
       "      <td>50003</td>\n",
       "      <td>PITT</td>\n",
       "      <td>Pitt_0050003</td>\n",
       "      <td>1</td>\n",
       "      <td>1</td>\n",
       "      <td>24.45</td>\n",
       "      <td>...</td>\n",
       "      <td>NaN</td>\n",
       "      <td>OK</td>\n",
       "      <td>NaN</td>\n",
       "      <td>OK</td>\n",
       "      <td>NaN</td>\n",
       "      <td>OK</td>\n",
       "      <td>NaN</td>\n",
       "      <td>OK</td>\n",
       "      <td>NaN</td>\n",
       "      <td>1</td>\n",
       "    </tr>\n",
       "    <tr>\n",
       "      <th>2</th>\n",
       "      <td>2</td>\n",
       "      <td>3</td>\n",
       "      <td>50004</td>\n",
       "      <td>3</td>\n",
       "      <td>50004</td>\n",
       "      <td>PITT</td>\n",
       "      <td>Pitt_0050004</td>\n",
       "      <td>1</td>\n",
       "      <td>1</td>\n",
       "      <td>19.09</td>\n",
       "      <td>...</td>\n",
       "      <td>NaN</td>\n",
       "      <td>OK</td>\n",
       "      <td>NaN</td>\n",
       "      <td>OK</td>\n",
       "      <td>NaN</td>\n",
       "      <td>OK</td>\n",
       "      <td>NaN</td>\n",
       "      <td>OK</td>\n",
       "      <td>NaN</td>\n",
       "      <td>1</td>\n",
       "    </tr>\n",
       "    <tr>\n",
       "      <th>3</th>\n",
       "      <td>3</td>\n",
       "      <td>4</td>\n",
       "      <td>50005</td>\n",
       "      <td>4</td>\n",
       "      <td>50005</td>\n",
       "      <td>PITT</td>\n",
       "      <td>Pitt_0050005</td>\n",
       "      <td>1</td>\n",
       "      <td>1</td>\n",
       "      <td>13.73</td>\n",
       "      <td>...</td>\n",
       "      <td>NaN</td>\n",
       "      <td>OK</td>\n",
       "      <td>NaN</td>\n",
       "      <td>maybe</td>\n",
       "      <td>ic-parietal-cerebellum</td>\n",
       "      <td>OK</td>\n",
       "      <td>NaN</td>\n",
       "      <td>OK</td>\n",
       "      <td>NaN</td>\n",
       "      <td>0</td>\n",
       "    </tr>\n",
       "    <tr>\n",
       "      <th>4</th>\n",
       "      <td>4</td>\n",
       "      <td>5</td>\n",
       "      <td>50006</td>\n",
       "      <td>5</td>\n",
       "      <td>50006</td>\n",
       "      <td>PITT</td>\n",
       "      <td>Pitt_0050006</td>\n",
       "      <td>1</td>\n",
       "      <td>1</td>\n",
       "      <td>13.37</td>\n",
       "      <td>...</td>\n",
       "      <td>NaN</td>\n",
       "      <td>OK</td>\n",
       "      <td>NaN</td>\n",
       "      <td>maybe</td>\n",
       "      <td>ic-parietal slight</td>\n",
       "      <td>OK</td>\n",
       "      <td>NaN</td>\n",
       "      <td>OK</td>\n",
       "      <td>NaN</td>\n",
       "      <td>1</td>\n",
       "    </tr>\n",
       "    <tr>\n",
       "      <th>5</th>\n",
       "      <td>5</td>\n",
       "      <td>6</td>\n",
       "      <td>50007</td>\n",
       "      <td>6</td>\n",
       "      <td>50007</td>\n",
       "      <td>PITT</td>\n",
       "      <td>Pitt_0050007</td>\n",
       "      <td>1</td>\n",
       "      <td>1</td>\n",
       "      <td>17.78</td>\n",
       "      <td>...</td>\n",
       "      <td>NaN</td>\n",
       "      <td>OK</td>\n",
       "      <td>NaN</td>\n",
       "      <td>maybe</td>\n",
       "      <td>ic-cerebellum_temporal_lob</td>\n",
       "      <td>OK</td>\n",
       "      <td>NaN</td>\n",
       "      <td>OK</td>\n",
       "      <td>NaN</td>\n",
       "      <td>1</td>\n",
       "    </tr>\n",
       "    <tr>\n",
       "      <th>...</th>\n",
       "      <td>...</td>\n",
       "      <td>...</td>\n",
       "      <td>...</td>\n",
       "      <td>...</td>\n",
       "      <td>...</td>\n",
       "      <td>...</td>\n",
       "      <td>...</td>\n",
       "      <td>...</td>\n",
       "      <td>...</td>\n",
       "      <td>...</td>\n",
       "      <td>...</td>\n",
       "      <td>...</td>\n",
       "      <td>...</td>\n",
       "      <td>...</td>\n",
       "      <td>...</td>\n",
       "      <td>...</td>\n",
       "      <td>...</td>\n",
       "      <td>...</td>\n",
       "      <td>...</td>\n",
       "      <td>...</td>\n",
       "      <td>...</td>\n",
       "    </tr>\n",
       "    <tr>\n",
       "      <th>1107</th>\n",
       "      <td>1107</td>\n",
       "      <td>1108</td>\n",
       "      <td>51583</td>\n",
       "      <td>1108</td>\n",
       "      <td>51583</td>\n",
       "      <td>SBL</td>\n",
       "      <td>SBL_0051583</td>\n",
       "      <td>1</td>\n",
       "      <td>2</td>\n",
       "      <td>35.00</td>\n",
       "      <td>...</td>\n",
       "      <td>NaN</td>\n",
       "      <td>OK</td>\n",
       "      <td>NaN</td>\n",
       "      <td>OK</td>\n",
       "      <td>ic-cerebellum-temporal_lobe</td>\n",
       "      <td>OK</td>\n",
       "      <td>NaN</td>\n",
       "      <td>OK</td>\n",
       "      <td>NaN</td>\n",
       "      <td>0</td>\n",
       "    </tr>\n",
       "    <tr>\n",
       "      <th>1108</th>\n",
       "      <td>1108</td>\n",
       "      <td>1109</td>\n",
       "      <td>51584</td>\n",
       "      <td>1109</td>\n",
       "      <td>51584</td>\n",
       "      <td>SBL</td>\n",
       "      <td>SBL_0051584</td>\n",
       "      <td>1</td>\n",
       "      <td>2</td>\n",
       "      <td>49.00</td>\n",
       "      <td>...</td>\n",
       "      <td>NaN</td>\n",
       "      <td>OK</td>\n",
       "      <td>NaN</td>\n",
       "      <td>maybe</td>\n",
       "      <td>vmpfc dropout</td>\n",
       "      <td>OK</td>\n",
       "      <td>NaN</td>\n",
       "      <td>OK</td>\n",
       "      <td>NaN</td>\n",
       "      <td>0</td>\n",
       "    </tr>\n",
       "    <tr>\n",
       "      <th>1109</th>\n",
       "      <td>1109</td>\n",
       "      <td>1110</td>\n",
       "      <td>51585</td>\n",
       "      <td>1110</td>\n",
       "      <td>51585</td>\n",
       "      <td>SBL</td>\n",
       "      <td>SBL_0051585</td>\n",
       "      <td>1</td>\n",
       "      <td>1</td>\n",
       "      <td>27.00</td>\n",
       "      <td>...</td>\n",
       "      <td>NaN</td>\n",
       "      <td>OK</td>\n",
       "      <td>NaN</td>\n",
       "      <td>maybe</td>\n",
       "      <td>ic-cerebellum-temporal_lobe</td>\n",
       "      <td>OK</td>\n",
       "      <td>NaN</td>\n",
       "      <td>OK</td>\n",
       "      <td>NaN</td>\n",
       "      <td>0</td>\n",
       "    </tr>\n",
       "    <tr>\n",
       "      <th>1110</th>\n",
       "      <td>1110</td>\n",
       "      <td>1111</td>\n",
       "      <td>51606</td>\n",
       "      <td>1111</td>\n",
       "      <td>51606</td>\n",
       "      <td>MAX_MUN</td>\n",
       "      <td>MaxMun_a_0051606</td>\n",
       "      <td>1</td>\n",
       "      <td>2</td>\n",
       "      <td>29.00</td>\n",
       "      <td>...</td>\n",
       "      <td>NaN</td>\n",
       "      <td>OK</td>\n",
       "      <td>NaN</td>\n",
       "      <td>maybe</td>\n",
       "      <td>ic-cerebellum</td>\n",
       "      <td>OK</td>\n",
       "      <td>NaN</td>\n",
       "      <td>OK</td>\n",
       "      <td>NaN</td>\n",
       "      <td>0</td>\n",
       "    </tr>\n",
       "    <tr>\n",
       "      <th>1111</th>\n",
       "      <td>1111</td>\n",
       "      <td>1112</td>\n",
       "      <td>51607</td>\n",
       "      <td>1112</td>\n",
       "      <td>51607</td>\n",
       "      <td>MAX_MUN</td>\n",
       "      <td>MaxMun_a_0051607</td>\n",
       "      <td>1</td>\n",
       "      <td>2</td>\n",
       "      <td>26.00</td>\n",
       "      <td>...</td>\n",
       "      <td>NaN</td>\n",
       "      <td>OK</td>\n",
       "      <td>NaN</td>\n",
       "      <td>maybe</td>\n",
       "      <td>ic-cerebellum</td>\n",
       "      <td>OK</td>\n",
       "      <td>NaN</td>\n",
       "      <td>OK</td>\n",
       "      <td>NaN</td>\n",
       "      <td>1</td>\n",
       "    </tr>\n",
       "  </tbody>\n",
       "</table>\n",
       "<p>871 rows × 106 columns</p>\n",
       "</div>"
      ],
      "text/plain": [
       "         i  Unnamed: 0  SUB_ID     X  subject  SITE_ID           FILE_ID  \\\n",
       "1        1           2   50003     2    50003     PITT      Pitt_0050003   \n",
       "2        2           3   50004     3    50004     PITT      Pitt_0050004   \n",
       "3        3           4   50005     4    50005     PITT      Pitt_0050005   \n",
       "4        4           5   50006     5    50006     PITT      Pitt_0050006   \n",
       "5        5           6   50007     6    50007     PITT      Pitt_0050007   \n",
       "...    ...         ...     ...   ...      ...      ...               ...   \n",
       "1107  1107        1108   51583  1108    51583      SBL       SBL_0051583   \n",
       "1108  1108        1109   51584  1109    51584      SBL       SBL_0051584   \n",
       "1109  1109        1110   51585  1110    51585      SBL       SBL_0051585   \n",
       "1110  1110        1111   51606  1111    51606  MAX_MUN  MaxMun_a_0051606   \n",
       "1111  1111        1112   51607  1112    51607  MAX_MUN  MaxMun_a_0051607   \n",
       "\n",
       "      DX_GROUP  DSM_IV_TR  AGE_AT_SCAN  ...  qc_notes_rater_1 qc_anat_rater_2  \\\n",
       "1            1          1        24.45  ...               NaN              OK   \n",
       "2            1          1        19.09  ...               NaN              OK   \n",
       "3            1          1        13.73  ...               NaN              OK   \n",
       "4            1          1        13.37  ...               NaN              OK   \n",
       "5            1          1        17.78  ...               NaN              OK   \n",
       "...        ...        ...          ...  ...               ...             ...   \n",
       "1107         1          2        35.00  ...               NaN              OK   \n",
       "1108         1          2        49.00  ...               NaN              OK   \n",
       "1109         1          1        27.00  ...               NaN              OK   \n",
       "1110         1          2        29.00  ...               NaN              OK   \n",
       "1111         1          2        26.00  ...               NaN              OK   \n",
       "\n",
       "      qc_anat_notes_rater_2  qc_func_rater_2        qc_func_notes_rater_2  \\\n",
       "1                       NaN               OK                          NaN   \n",
       "2                       NaN               OK                          NaN   \n",
       "3                       NaN            maybe       ic-parietal-cerebellum   \n",
       "4                       NaN            maybe           ic-parietal slight   \n",
       "5                       NaN            maybe   ic-cerebellum_temporal_lob   \n",
       "...                     ...              ...                          ...   \n",
       "1107                    NaN               OK  ic-cerebellum-temporal_lobe   \n",
       "1108                    NaN            maybe                vmpfc dropout   \n",
       "1109                    NaN            maybe  ic-cerebellum-temporal_lobe   \n",
       "1110                    NaN            maybe                ic-cerebellum   \n",
       "1111                    NaN            maybe                ic-cerebellum   \n",
       "\n",
       "      qc_anat_rater_3 qc_anat_notes_rater_3 qc_func_rater_3  \\\n",
       "1                  OK                   NaN              OK   \n",
       "2                  OK                   NaN              OK   \n",
       "3                  OK                   NaN              OK   \n",
       "4                  OK                   NaN              OK   \n",
       "5                  OK                   NaN              OK   \n",
       "...               ...                   ...             ...   \n",
       "1107               OK                   NaN              OK   \n",
       "1108               OK                   NaN              OK   \n",
       "1109               OK                   NaN              OK   \n",
       "1110               OK                   NaN              OK   \n",
       "1111               OK                   NaN              OK   \n",
       "\n",
       "     qc_func_notes_rater_3  SUB_IN_SMP  \n",
       "1                      NaN           1  \n",
       "2                      NaN           1  \n",
       "3                      NaN           0  \n",
       "4                      NaN           1  \n",
       "5                      NaN           1  \n",
       "...                    ...         ...  \n",
       "1107                   NaN           0  \n",
       "1108                   NaN           0  \n",
       "1109                   NaN           0  \n",
       "1110                   NaN           0  \n",
       "1111                   NaN           1  \n",
       "\n",
       "[871 rows x 106 columns]"
      ]
     },
     "execution_count": 14,
     "metadata": {},
     "output_type": "execute_result"
    }
   ],
   "source": [
    "phen_abide = abide['phenotypic']\n",
    "phen_abide"
   ]
  },
  {
   "cell_type": "code",
   "execution_count": 15,
   "metadata": {
    "colab": {
     "base_uri": "https://localhost:8080/",
     "height": 300
    },
    "id": "p21oUS4QWukl",
    "outputId": "aab38218-af46-421d-dacf-c9b3d0f5641e"
   },
   "outputs": [
    {
     "data": {
      "text/html": [
       "<div>\n",
       "<style scoped>\n",
       "    .dataframe tbody tr th:only-of-type {\n",
       "        vertical-align: middle;\n",
       "    }\n",
       "\n",
       "    .dataframe tbody tr th {\n",
       "        vertical-align: top;\n",
       "    }\n",
       "\n",
       "    .dataframe thead th {\n",
       "        text-align: right;\n",
       "    }\n",
       "</style>\n",
       "<table border=\"1\" class=\"dataframe\">\n",
       "  <thead>\n",
       "    <tr style=\"text-align: right;\">\n",
       "      <th></th>\n",
       "      <th>AGE_AT_SCAN</th>\n",
       "      <th>SEX</th>\n",
       "      <th>DX_GROUP</th>\n",
       "    </tr>\n",
       "  </thead>\n",
       "  <tbody>\n",
       "    <tr>\n",
       "      <th>count</th>\n",
       "      <td>871.000000</td>\n",
       "      <td>871.000000</td>\n",
       "      <td>871.000000</td>\n",
       "    </tr>\n",
       "    <tr>\n",
       "      <th>mean</th>\n",
       "      <td>16.943665</td>\n",
       "      <td>1.165327</td>\n",
       "      <td>1.537313</td>\n",
       "    </tr>\n",
       "    <tr>\n",
       "      <th>std</th>\n",
       "      <td>7.580910</td>\n",
       "      <td>0.371689</td>\n",
       "      <td>0.498892</td>\n",
       "    </tr>\n",
       "    <tr>\n",
       "      <th>min</th>\n",
       "      <td>6.470000</td>\n",
       "      <td>1.000000</td>\n",
       "      <td>1.000000</td>\n",
       "    </tr>\n",
       "    <tr>\n",
       "      <th>25%</th>\n",
       "      <td>11.920000</td>\n",
       "      <td>1.000000</td>\n",
       "      <td>1.000000</td>\n",
       "    </tr>\n",
       "    <tr>\n",
       "      <th>50%</th>\n",
       "      <td>14.750000</td>\n",
       "      <td>1.000000</td>\n",
       "      <td>2.000000</td>\n",
       "    </tr>\n",
       "    <tr>\n",
       "      <th>75%</th>\n",
       "      <td>19.779550</td>\n",
       "      <td>1.000000</td>\n",
       "      <td>2.000000</td>\n",
       "    </tr>\n",
       "    <tr>\n",
       "      <th>max</th>\n",
       "      <td>58.000000</td>\n",
       "      <td>2.000000</td>\n",
       "      <td>2.000000</td>\n",
       "    </tr>\n",
       "  </tbody>\n",
       "</table>\n",
       "</div>"
      ],
      "text/plain": [
       "       AGE_AT_SCAN         SEX    DX_GROUP\n",
       "count   871.000000  871.000000  871.000000\n",
       "mean     16.943665    1.165327    1.537313\n",
       "std       7.580910    0.371689    0.498892\n",
       "min       6.470000    1.000000    1.000000\n",
       "25%      11.920000    1.000000    1.000000\n",
       "50%      14.750000    1.000000    2.000000\n",
       "75%      19.779550    1.000000    2.000000\n",
       "max      58.000000    2.000000    2.000000"
      ]
     },
     "execution_count": 15,
     "metadata": {},
     "output_type": "execute_result"
    }
   ],
   "source": [
    "inf_descrip = phen_abide[['AGE_AT_SCAN', 'SEX', 'DX_GROUP']]\n",
    "\n",
    "inf_descrip.describe()\n",
    "\n",
    "# females = inf_descrip.loc[inf_descrip['SEX'] == 2]"
   ]
  },
  {
   "cell_type": "code",
   "execution_count": 16,
   "metadata": {
    "colab": {
     "base_uri": "https://localhost:8080/",
     "height": 300
    },
    "id": "qmdoMymzYvYT",
    "outputId": "a6b49e0d-f6dc-477e-9e69-ccf6f503108b"
   },
   "outputs": [
    {
     "data": {
      "text/html": [
       "<div>\n",
       "<style scoped>\n",
       "    .dataframe tbody tr th:only-of-type {\n",
       "        vertical-align: middle;\n",
       "    }\n",
       "\n",
       "    .dataframe tbody tr th {\n",
       "        vertical-align: top;\n",
       "    }\n",
       "\n",
       "    .dataframe thead th {\n",
       "        text-align: right;\n",
       "    }\n",
       "</style>\n",
       "<table border=\"1\" class=\"dataframe\">\n",
       "  <thead>\n",
       "    <tr style=\"text-align: right;\">\n",
       "      <th></th>\n",
       "      <th>AGE_AT_SCAN</th>\n",
       "      <th>SEX</th>\n",
       "      <th>DX_GROUP</th>\n",
       "    </tr>\n",
       "  </thead>\n",
       "  <tbody>\n",
       "    <tr>\n",
       "      <th>count</th>\n",
       "      <td>727.000000</td>\n",
       "      <td>727.0</td>\n",
       "      <td>727.000000</td>\n",
       "    </tr>\n",
       "    <tr>\n",
       "      <th>mean</th>\n",
       "      <td>17.267801</td>\n",
       "      <td>1.0</td>\n",
       "      <td>1.519945</td>\n",
       "    </tr>\n",
       "    <tr>\n",
       "      <th>std</th>\n",
       "      <td>7.757163</td>\n",
       "      <td>0.0</td>\n",
       "      <td>0.499946</td>\n",
       "    </tr>\n",
       "    <tr>\n",
       "      <th>min</th>\n",
       "      <td>6.470000</td>\n",
       "      <td>1.0</td>\n",
       "      <td>1.000000</td>\n",
       "    </tr>\n",
       "    <tr>\n",
       "      <th>25%</th>\n",
       "      <td>12.005000</td>\n",
       "      <td>1.0</td>\n",
       "      <td>1.000000</td>\n",
       "    </tr>\n",
       "    <tr>\n",
       "      <th>50%</th>\n",
       "      <td>15.040000</td>\n",
       "      <td>1.0</td>\n",
       "      <td>2.000000</td>\n",
       "    </tr>\n",
       "    <tr>\n",
       "      <th>75%</th>\n",
       "      <td>20.190350</td>\n",
       "      <td>1.0</td>\n",
       "      <td>2.000000</td>\n",
       "    </tr>\n",
       "    <tr>\n",
       "      <th>max</th>\n",
       "      <td>58.000000</td>\n",
       "      <td>1.0</td>\n",
       "      <td>2.000000</td>\n",
       "    </tr>\n",
       "  </tbody>\n",
       "</table>\n",
       "</div>"
      ],
      "text/plain": [
       "       AGE_AT_SCAN    SEX    DX_GROUP\n",
       "count   727.000000  727.0  727.000000\n",
       "mean     17.267801    1.0    1.519945\n",
       "std       7.757163    0.0    0.499946\n",
       "min       6.470000    1.0    1.000000\n",
       "25%      12.005000    1.0    1.000000\n",
       "50%      15.040000    1.0    2.000000\n",
       "75%      20.190350    1.0    2.000000\n",
       "max      58.000000    1.0    2.000000"
      ]
     },
     "execution_count": 16,
     "metadata": {},
     "output_type": "execute_result"
    }
   ],
   "source": [
    "males_stat = inf_descrip.loc[inf_descrip['SEX'] == 1]\n",
    "males_stat.describe()"
   ]
  },
  {
   "cell_type": "code",
   "execution_count": 17,
   "metadata": {
    "colab": {
     "base_uri": "https://localhost:8080/",
     "height": 300
    },
    "id": "m-wW0qUzZHjC",
    "outputId": "e999a895-86ef-4e72-fe0b-a8032a943292"
   },
   "outputs": [
    {
     "data": {
      "text/html": [
       "<div>\n",
       "<style scoped>\n",
       "    .dataframe tbody tr th:only-of-type {\n",
       "        vertical-align: middle;\n",
       "    }\n",
       "\n",
       "    .dataframe tbody tr th {\n",
       "        vertical-align: top;\n",
       "    }\n",
       "\n",
       "    .dataframe thead th {\n",
       "        text-align: right;\n",
       "    }\n",
       "</style>\n",
       "<table border=\"1\" class=\"dataframe\">\n",
       "  <thead>\n",
       "    <tr style=\"text-align: right;\">\n",
       "      <th></th>\n",
       "      <th>AGE_AT_SCAN</th>\n",
       "      <th>SEX</th>\n",
       "      <th>DX_GROUP</th>\n",
       "    </tr>\n",
       "  </thead>\n",
       "  <tbody>\n",
       "    <tr>\n",
       "      <th>count</th>\n",
       "      <td>144.000000</td>\n",
       "      <td>144.0</td>\n",
       "      <td>144.000000</td>\n",
       "    </tr>\n",
       "    <tr>\n",
       "      <th>mean</th>\n",
       "      <td>15.307224</td>\n",
       "      <td>2.0</td>\n",
       "      <td>1.625000</td>\n",
       "    </tr>\n",
       "    <tr>\n",
       "      <th>std</th>\n",
       "      <td>6.396594</td>\n",
       "      <td>0.0</td>\n",
       "      <td>0.485813</td>\n",
       "    </tr>\n",
       "    <tr>\n",
       "      <th>min</th>\n",
       "      <td>7.750200</td>\n",
       "      <td>2.0</td>\n",
       "      <td>1.000000</td>\n",
       "    </tr>\n",
       "    <tr>\n",
       "      <th>25%</th>\n",
       "      <td>11.170000</td>\n",
       "      <td>2.0</td>\n",
       "      <td>1.000000</td>\n",
       "    </tr>\n",
       "    <tr>\n",
       "      <th>50%</th>\n",
       "      <td>13.870000</td>\n",
       "      <td>2.0</td>\n",
       "      <td>2.000000</td>\n",
       "    </tr>\n",
       "    <tr>\n",
       "      <th>75%</th>\n",
       "      <td>17.200000</td>\n",
       "      <td>2.0</td>\n",
       "      <td>2.000000</td>\n",
       "    </tr>\n",
       "    <tr>\n",
       "      <th>max</th>\n",
       "      <td>45.000000</td>\n",
       "      <td>2.0</td>\n",
       "      <td>2.000000</td>\n",
       "    </tr>\n",
       "  </tbody>\n",
       "</table>\n",
       "</div>"
      ],
      "text/plain": [
       "       AGE_AT_SCAN    SEX    DX_GROUP\n",
       "count   144.000000  144.0  144.000000\n",
       "mean     15.307224    2.0    1.625000\n",
       "std       6.396594    0.0    0.485813\n",
       "min       7.750200    2.0    1.000000\n",
       "25%      11.170000    2.0    1.000000\n",
       "50%      13.870000    2.0    2.000000\n",
       "75%      17.200000    2.0    2.000000\n",
       "max      45.000000    2.0    2.000000"
      ]
     },
     "execution_count": 17,
     "metadata": {},
     "output_type": "execute_result"
    }
   ],
   "source": [
    "females_stat = inf_descrip.loc[inf_descrip['SEX'] == 2]\n",
    "females_stat.describe()"
   ]
  },
  {
   "cell_type": "code",
   "execution_count": 18,
   "metadata": {
    "colab": {
     "base_uri": "https://localhost:8080/"
    },
    "id": "DEz4AkQzMk-a",
    "outputId": "d490b3f6-0621-4a04-8387-2c32d4d54f29"
   },
   "outputs": [
    {
     "data": {
      "text/plain": [
       "DX_GROUP\n",
       "2    468\n",
       "1    403\n",
       "Name: count, dtype: int64"
      ]
     },
     "execution_count": 18,
     "metadata": {},
     "output_type": "execute_result"
    }
   ],
   "source": [
    "NYU_dx_counts = phen_abide['DX_GROUP'].value_counts()\n",
    "NYU_dx_counts # 86 Neurotypical Controls, 74 ASD"
   ]
  },
  {
   "cell_type": "code",
   "execution_count": 19,
   "metadata": {
    "colab": {
     "base_uri": "https://localhost:8080/",
     "height": 470
    },
    "id": "T7-MonEfRPbF",
    "outputId": "3323ff79-ccf1-444b-ce81-ebd2bb4c5aa3"
   },
   "outputs": [
    {
     "data": {
      "text/plain": [
       "<BarContainer object of 2 artists>"
      ]
     },
     "execution_count": 19,
     "metadata": {},
     "output_type": "execute_result"
    },
    {
     "data": {
      "image/png": "[encoded data removed]",
      "text/plain": [
       "<Figure size 640x480 with 1 Axes>"
      ]
     },
     "metadata": {},
     "output_type": "display_data"
    }
   ],
   "source": [
    "Y = NYU_dx_counts.values\n",
    "X = ['Neurotypical Controls', 'Autism Spectrum Disorder']\n",
    "plt.title('DX GROUP COUNTS')\n",
    "plt.ylabel('Number of subjects')\n",
    "color1 = (128/255, 0, 128/255, 0.5)\n",
    "color2 = (128/255, 0, 128/255, 0.8)\n",
    "plt.bar(X, Y, color = [color1, color2])"
   ]
  },
  {
   "cell_type": "code",
   "execution_count": 20,
   "metadata": {
    "colab": {
     "base_uri": "https://localhost:8080/"
    },
    "id": "7-pASFZXOuto",
    "outputId": "268e92d3-c652-4261-be66-e9e3f37a4c2e"
   },
   "outputs": [
    {
     "data": {
      "text/plain": [
       "SEX\n",
       "1    727\n",
       "2    144\n",
       "Name: count, dtype: int64"
      ]
     },
     "execution_count": 20,
     "metadata": {},
     "output_type": "execute_result"
    }
   ],
   "source": [
    "NYU_sex_counts = phen_abide['SEX'].value_counts()\n",
    "NYU_sex_counts # Male 124, Female 36"
   ]
  },
  {
   "cell_type": "code",
   "execution_count": 21,
   "metadata": {
    "colab": {
     "base_uri": "https://localhost:8080/",
     "height": 470
    },
    "id": "bmLbIjLkTCFq",
    "outputId": "acc076fd-74e3-4583-d0f9-cbdce3c6862a"
   },
   "outputs": [
    {
     "data": {
      "text/plain": [
       "<BarContainer object of 2 artists>"
      ]
     },
     "execution_count": 21,
     "metadata": {},
     "output_type": "execute_result"
    },
    {
     "data": {
      "image/png": "[encoded data removed]",
      "text/plain": [
       "<Figure size 640x480 with 1 Axes>"
      ]
     },
     "metadata": {},
     "output_type": "display_data"
    }
   ],
   "source": [
    "Y = NYU_sex_counts.values\n",
    "X = ['MALES', 'FEMALES']\n",
    "plt.title('SEX SUBJECTS COUNTS')\n",
    "plt.ylabel('Number of subjects')\n",
    "color1 = (128/255, 0, 128/255, 0.5)\n",
    "color2 = (128/255, 0, 128/255, 0.8)\n",
    "plt.bar(X, Y, color = [color1, color2])"
   ]
  },
  {
   "cell_type": "code",
   "execution_count": 22,
   "metadata": {
    "colab": {
     "base_uri": "https://localhost:8080/"
    },
    "id": "YANhL2BtPqVy",
    "outputId": "c9d8d234-66bb-4552-d995-7f396916196f"
   },
   "outputs": [
    {
     "data": {
      "text/plain": [
       "349"
      ]
     },
     "execution_count": 22,
     "metadata": {},
     "output_type": "execute_result"
    }
   ],
   "source": [
    "NYU_ASD_MALE = phen_abide.loc[(phen_abide['DX_GROUP'] == 1) & (phen_abide['SEX'] == 1)]\n",
    "NYU_ASD_MALE['DX_GROUP'].count() # 64 MALES WITH ASD, 60 MALES NEUROTYPICAL CONTROLS"
   ]
  },
  {
   "cell_type": "code",
   "execution_count": 23,
   "metadata": {
    "colab": {
     "base_uri": "https://localhost:8080/"
    },
    "id": "jRfSTcpWQrkz",
    "outputId": "dbf70bd7-3845-4756-bb97-33e2182c0020"
   },
   "outputs": [
    {
     "data": {
      "text/plain": [
       "54"
      ]
     },
     "execution_count": 23,
     "metadata": {},
     "output_type": "execute_result"
    }
   ],
   "source": [
    "NYU_ASD_FMALE = phen_abide.loc[(phen_abide['DX_GROUP'] == 1) & (phen_abide['SEX'] == 2)]\n",
    "NYU_ASD_FMALE['DX_GROUP'].count() # 10 FEMALES WITH ASD, 26 FEMALES NEUROTYPICAL CONTROLS"
   ]
  },
  {
   "cell_type": "code",
   "execution_count": 24,
   "metadata": {
    "colab": {
     "base_uri": "https://localhost:8080/",
     "height": 470
    },
    "id": "xkt884K-TaaF",
    "outputId": "89b7fd73-acf2-4e21-9b0b-87f60d5e9a6c"
   },
   "outputs": [
    {
     "data": {
      "text/plain": [
       "<BarContainer object of 4 artists>"
      ]
     },
     "execution_count": 24,
     "metadata": {},
     "output_type": "execute_result"
    },
    {
     "data": {
      "image/png": "[encoded data removed]",
      "text/plain": [
       "<Figure size 640x480 with 1 Axes>"
      ]
     },
     "metadata": {},
     "output_type": "display_data"
    }
   ],
   "source": [
    "Y = [64, 60, 10, 26]\n",
    "X = ['MALES ASD', 'MALES NC', 'FEMALES ASD', 'FEMALES NC']\n",
    "color1 = (128/255, 0, 128/255, 0.2)\n",
    "color2 = (128/255, 0, 128/255, 0.4)\n",
    "color3 = (128/255, 0, 128/255, 0.6)\n",
    "color4 = (128/255, 0, 128/255, 0.8)\n",
    "plt.title('DX AND SEX')\n",
    "plt.ylabel('COUNT')\n",
    "plt.bar(X, Y, color = [color1, color2, color3, color4])"
   ]
  },
  {
   "cell_type": "code",
   "execution_count": 25,
   "metadata": {
    "colab": {
     "base_uri": "https://localhost:8080/"
    },
    "id": "GIi9ta-QBmCE",
    "outputId": "a03ab7fc-1e36-427e-bb2d-79a56d277f73"
   },
   "outputs": [
    {
     "data": {
      "text/plain": [
       "(196, 200)"
      ]
     },
     "execution_count": 25,
     "metadata": {},
     "output_type": "execute_result"
    }
   ],
   "source": [
    "abide['rois_cc200'][0].shape #[Time series, ROIS] fmri --> pixels, voxels (3D) basic unit"
   ]
  },
  {
   "cell_type": "code",
   "execution_count": 26,
   "metadata": {
    "colab": {
     "base_uri": "https://localhost:8080/"
    },
    "id": "6gKzCenzUBWb",
    "outputId": "87e8aa47-7141-4bab-a8aa-928c6609a7cc"
   },
   "outputs": [],
   "source": [
    "# x_data = np.asarray(abide['rois_cc200'])\n",
    "# x_data.shape # 160 subjects, 176 time series, 200 ROIs"
   ]
  },
  {
   "cell_type": "code",
   "execution_count": 27,
   "metadata": {
    "colab": {
     "base_uri": "https://localhost:8080/"
    },
    "id": "6gKzCenzUBWb",
    "outputId": "87e8aa47-7141-4bab-a8aa-928c6609a7cc"
   },
   "outputs": [
    {
     "data": {
      "text/plain": [
       "((871, 2), 200, 316)"
      ]
     },
     "execution_count": 27,
     "metadata": {},
     "output_type": "execute_result"
    }
   ],
   "source": [
    "a_dims = np.array([item.shape for item in abide['rois_cc200']])\n",
    "rois_dim = np.max(a_dims[:, 1])\n",
    "ts_dim = np.max(a_dims[:, 0])\n",
    "a_dims.shape, rois_dim, ts_dim"
   ]
  },
  {
   "cell_type": "code",
   "execution_count": 28,
   "metadata": {
    "colab": {
     "base_uri": "https://localhost:8080/"
    },
    "id": "6gKzCenzUBWb",
    "outputId": "87e8aa47-7141-4bab-a8aa-928c6609a7cc"
   },
   "outputs": [
    {
     "data": {
      "text/plain": [
       "(316, 200, 871)"
      ]
     },
     "execution_count": 28,
     "metadata": {},
     "output_type": "execute_result"
    }
   ],
   "source": [
    "x_data = np.zeros((ts_dim, rois_dim, len(abide['rois_cc200'])))\n",
    "for idx, val in enumerate(abide['rois_cc200']):\n",
    "    x_data[0:val.shape[0], 0:val.shape[1], idx] = val\n",
    "x_data.shape"
   ]
  },
  {
   "cell_type": "code",
   "execution_count": 29,
   "metadata": {
    "colab": {
     "base_uri": "https://localhost:8080/"
    },
    "id": "rE5BEkYkVD9X",
    "outputId": "6ed04b00-96a2-49ed-af97-e398cd5711b4"
   },
   "outputs": [
    {
     "name": "stdout",
     "output_type": "stream",
     "text": [
      "[1 1 1 1 1 1 1 1 1 1 1 1 1 1 1 1 1 1 1 1 1 2 2 2 2 2 2 2 2 2 2 2 2 2 2 2 2\n",
      " 2 2 2 2 2 2 2 1 2 1 1 2 2 2 2 2 2 2 2 2 2 2 2 2 2 2 2 1 1 1 1 1 1 1 1 1 1\n",
      " 1 1 1 1 1 1 1 1 1 1 1 1 1 1 1 1 2 2 2 2 2 2 2 2 2 2 2 2 2 1 1 1 1 1 1 1 1\n",
      " 2 2 2 2 2 2 2 2 2 2 2 2 2 2 2 2 2 2 2 1 1 1 1 1 1 1 1 1 1 1 1 1 1 1 1 1 1\n",
      " 1 2 2 2 2 2 2 2 2 2 2 2 2 2 2 1 1 1 1 1 1 1 1 1 1 1 1 1 1 1 1 1 1 1 1 1 1\n",
      " 1 1 1 1 1 1 1 1 1 1 1 1 2 2 2 2 2 2 2 2 2 2 2 2 2 2 2 2 2 2 2 2 2 2 2 2 2\n",
      " 2 2 2 2 2 2 2 2 2 2 2 2 2 2 2 2 2 2 2 2 2 2 2 2 2 2 2 2 2 2 2 2 2 2 2 1 1\n",
      " 1 1 1 1 1 1 1 1 1 1 1 2 2 2 2 2 2 2 2 2 2 2 2 2 2 2 2 2 2 2 2 2 2 2 2 2 2\n",
      " 2 2 2 2 2 2 2 2 2 2 2 1 1 1 1 1 1 1 1 1 1 1 1 1 1 1 1 1 1 1 1 1 1 1 1 1 1\n",
      " 1 1 1 1 1 1 1 1 1 1 1 1 1 1 1 1 1 2 2 2 2 2 2 2 2 2 2 2 2 2 2 2 2 2 2 2 1\n",
      " 1 1 1 1 1 1 1 1 1 1 1 1 1 1 1 1 1 1 1 1 1 1 1 1 1 1 1 2 2 2 2 2 2 2 2 1 2\n",
      " 2 1 1 2 2 1 1 1 1 1 2 2 1 2 1 2 1 1 2 2 1 2 1 2 2 2 2 2 2 2 2 2 2 2 2 2 2\n",
      " 2 2 1 1 1 1 1 1 1 1 1 1 1 1 2 2 2 2 2 2 2 2 2 2 2 2 2 1 1 1 1 1 1 1 1 1 1\n",
      " 2 2 2 2 2 2 2 2 1 1 1 1 1 1 1 1 1 1 1 1 1 1 1 1 1 1 1 1 1 1 1 1 1 1 1 1 1\n",
      " 1 1 1 1 1 1 1 1 1 1 1 1 1 1 1 1 1 1 1 1 1 1 1 1 1 1 1 1 1 1 1 1 1 1 1 1 1\n",
      " 1 1 1 1 1 1 1 1 1 1 2 2 2 2 2 2 2 2 2 2 2 2 2 2 2 2 2 2 2 2 2 2 2 2 2 2 2\n",
      " 2 2 2 2 2 2 2 2 2 2 2 2 2 2 2 2 2 2 2 2 2 2 2 2 2 2 2 2 2 2 2 2 2 2 2 2 2\n",
      " 2 2 2 2 2 2 2 2 2 2 2 2 2 2 2 2 2 2 2 2 2 2 2 2 2 2 2 2 2 2 2 2 2 2 2 2 2\n",
      " 2 2 2 2 2 2 2 2 1 1 1 1 1 1 1 1 1 1 1 1 2 2 2 2 2 2 2 2 2 2 2 2 2 1 1 1 1\n",
      " 1 1 1 1 1 1 1 1 1 1 1 1 1 1 1 1 1 1 1 1 1 1 1 1 1 1 1 1 1 1 1 1 1 2 2 2 2\n",
      " 2 2 2 2 2 2 2 2 2 2 2 2 2 2 2 2 2 2 2 2 2 2 2 1 1 1 1 1 1 1 1 1 1 1 2 2 2\n",
      " 2 2 2 2 2 2 2 1 1 1 1 1 1 1 1 1 1 1 1 1 2 2 2 2 2 2 2 2 2 2 2 2 2 2 2 1 1\n",
      " 1 1 2 2 2 2 2 2 2 2 2 2 2 2 1 1 1 1 1 2 2 2 2 2 2 2 2 2 2 2 2 2 2 2 2 2 2\n",
      " 2 2 2 2 2 2 1 1 1 1 1 1 1 1 1 1 1 1 1 1] 871 <class 'numpy.ndarray'>\n"
     ]
    }
   ],
   "source": [
    "dx_counts = phen_abide['DX_GROUP']\n",
    "y_target = np.array(dx_counts)\n",
    "print(y_target, len(y_target), type(y_target))"
   ]
  },
  {
   "cell_type": "code",
   "execution_count": 30,
   "metadata": {
    "id": "WCEVw7JEULXz"
   },
   "outputs": [],
   "source": [
    "def replace_values(input_list):\n",
    "    output_list = [0 if x == 1 else 1 if x == 2 else x for x in input_list]\n",
    "    return np.array(output_list)"
   ]
  },
  {
   "cell_type": "code",
   "execution_count": 31,
   "metadata": {
    "colab": {
     "base_uri": "https://localhost:8080/"
    },
    "id": "4SJenYtKUOK4",
    "outputId": "99fa4d34-cd6a-4f91-e042-5b6a04153810"
   },
   "outputs": [
    {
     "name": "stdout",
     "output_type": "stream",
     "text": [
      "[0 0 0 0 0 0 0 0 0 0 0 0 0 0 0 0 0 0 0 0 0 1 1 1 1 1 1 1 1 1 1 1 1 1 1 1 1\n",
      " 1 1 1 1 1 1 1 0 1 0 0 1 1 1 1 1 1 1 1 1 1 1 1 1 1 1 1 0 0 0 0 0 0 0 0 0 0\n",
      " 0 0 0 0 0 0 0 0 0 0 0 0 0 0 0 0 1 1 1 1 1 1 1 1 1 1 1 1 1 0 0 0 0 0 0 0 0\n",
      " 1 1 1 1 1 1 1 1 1 1 1 1 1 1 1 1 1 1 1 0 0 0 0 0 0 0 0 0 0 0 0 0 0 0 0 0 0\n",
      " 0 1 1 1 1 1 1 1 1 1 1 1 1 1 1 0 0 0 0 0 0 0 0 0 0 0 0 0 0 0 0 0 0 0 0 0 0\n",
      " 0 0 0 0 0 0 0 0 0 0 0 0 1 1 1 1 1 1 1 1 1 1 1 1 1 1 1 1 1 1 1 1 1 1 1 1 1\n",
      " 1 1 1 1 1 1 1 1 1 1 1 1 1 1 1 1 1 1 1 1 1 1 1 1 1 1 1 1 1 1 1 1 1 1 1 0 0\n",
      " 0 0 0 0 0 0 0 0 0 0 0 1 1 1 1 1 1 1 1 1 1 1 1 1 1 1 1 1 1 1 1 1 1 1 1 1 1\n",
      " 1 1 1 1 1 1 1 1 1 1 1 0 0 0 0 0 0 0 0 0 0 0 0 0 0 0 0 0 0 0 0 0 0 0 0 0 0\n",
      " 0 0 0 0 0 0 0 0 0 0 0 0 0 0 0 0 0 1 1 1 1 1 1 1 1 1 1 1 1 1 1 1 1 1 1 1 0\n",
      " 0 0 0 0 0 0 0 0 0 0 0 0 0 0 0 0 0 0 0 0 0 0 0 0 0 0 0 1 1 1 1 1 1 1 1 0 1\n",
      " 1 0 0 1 1 0 0 0 0 0 1 1 0 1 0 1 0 0 1 1 0 1 0 1 1 1 1 1 1 1 1 1 1 1 1 1 1\n",
      " 1 1 0 0 0 0 0 0 0 0 0 0 0 0 1 1 1 1 1 1 1 1 1 1 1 1 1 0 0 0 0 0 0 0 0 0 0\n",
      " 1 1 1 1 1 1 1 1 0 0 0 0 0 0 0 0 0 0 0 0 0 0 0 0 0 0 0 0 0 0 0 0 0 0 0 0 0\n",
      " 0 0 0 0 0 0 0 0 0 0 0 0 0 0 0 0 0 0 0 0 0 0 0 0 0 0 0 0 0 0 0 0 0 0 0 0 0\n",
      " 0 0 0 0 0 0 0 0 0 0 1 1 1 1 1 1 1 1 1 1 1 1 1 1 1 1 1 1 1 1 1 1 1 1 1 1 1\n",
      " 1 1 1 1 1 1 1 1 1 1 1 1 1 1 1 1 1 1 1 1 1 1 1 1 1 1 1 1 1 1 1 1 1 1 1 1 1\n",
      " 1 1 1 1 1 1 1 1 1 1 1 1 1 1 1 1 1 1 1 1 1 1 1 1 1 1 1 1 1 1 1 1 1 1 1 1 1\n",
      " 1 1 1 1 1 1 1 1 0 0 0 0 0 0 0 0 0 0 0 0 1 1 1 1 1 1 1 1 1 1 1 1 1 0 0 0 0\n",
      " 0 0 0 0 0 0 0 0 0 0 0 0 0 0 0 0 0 0 0 0 0 0 0 0 0 0 0 0 0 0 0 0 0 1 1 1 1\n",
      " 1 1 1 1 1 1 1 1 1 1 1 1 1 1 1 1 1 1 1 1 1 1 1 0 0 0 0 0 0 0 0 0 0 0 1 1 1\n",
      " 1 1 1 1 1 1 1 0 0 0 0 0 0 0 0 0 0 0 0 0 1 1 1 1 1 1 1 1 1 1 1 1 1 1 1 0 0\n",
      " 0 0 1 1 1 1 1 1 1 1 1 1 1 1 0 0 0 0 0 1 1 1 1 1 1 1 1 1 1 1 1 1 1 1 1 1 1\n",
      " 1 1 1 1 1 1 0 0 0 0 0 0 0 0 0 0 0 0 0 0] 871\n"
     ]
    }
   ],
   "source": [
    "y_target = replace_values(y_target)\n",
    "print(y_target, len(y_target))"
   ]
  },
  {
   "cell_type": "code",
   "execution_count": 32,
   "metadata": {
    "colab": {
     "base_uri": "https://localhost:8080/",
     "height": 53
    },
    "id": "NYjeAePJnnco",
    "outputId": "df58a27d-2dd2-4710-8f30-6f6f91bfc3aa"
   },
   "outputs": [
    {
     "data": {
      "text/plain": [
       "'./ABIDE_pcp/cpac/nofilt_noglobal/Pitt_0050003_func_preproc.nii.gz'"
      ]
     },
     "execution_count": 32,
     "metadata": {},
     "output_type": "execute_result"
    }
   ],
   "source": [
    "abide['func_preproc'][0]"
   ]
  },
  {
   "cell_type": "code",
   "execution_count": 33,
   "metadata": {
    "colab": {
     "base_uri": "https://localhost:8080/"
    },
    "id": "BWJn9h1vFYbV",
    "outputId": "83425f59-c744-4eb3-b35c-b458d5eca7d1"
   },
   "outputs": [
    {
     "name": "stdout",
     "output_type": "stream",
     "text": [
      "(61, 73, 61, 196) \n",
      " <class 'nibabel.nifti1.Nifti1Header'> object, endian='<'\n",
      "sizeof_hdr      : 348\n",
      "data_type       : b''\n",
      "db_name         : b''\n",
      "extents         : 0\n",
      "session_error   : 0\n",
      "regular         : b'r'\n",
      "dim_info        : 0\n",
      "dim             : [  4  61  73  61 196   1   1   1]\n",
      "intent_p1       : 0.0\n",
      "intent_p2       : 0.0\n",
      "intent_p3       : 0.0\n",
      "intent_code     : none\n",
      "datatype        : float64\n",
      "bitpix          : 64\n",
      "slice_start     : 0\n",
      "pixdim          : [-1.   3.   3.   3.   1.5  0.   0.   0. ]\n",
      "vox_offset      : 0.0\n",
      "scl_slope       : nan\n",
      "scl_inter       : nan\n",
      "slice_end       : 0\n",
      "slice_code      : unknown\n",
      "xyzt_units      : 2\n",
      "cal_max         : 0.0\n",
      "cal_min         : 0.0\n",
      "slice_duration  : 0.0\n",
      "toffset         : 0.0\n",
      "glmax           : 0\n",
      "glmin           : 0\n",
      "descrip         : b''\n",
      "aux_file        : b''\n",
      "qform_code      : aligned\n",
      "sform_code      : scanner\n",
      "quatern_b       : -0.0\n",
      "quatern_c       : 1.0\n",
      "quatern_d       : 0.0\n",
      "qoffset_x       : 90.0\n",
      "qoffset_y       : -126.0\n",
      "qoffset_z       : -72.0\n",
      "srow_x          : [-3. -0.  0. 90.]\n",
      "srow_y          : [  -0.    3.   -0. -126.]\n",
      "srow_z          : [  0.   0.   3. -72.]\n",
      "intent_name     : b''\n",
      "magic           : b'n+1' \n",
      " ('mm', 'unknown')\n"
     ]
    }
   ],
   "source": [
    "test_subj_0 = nib.load(abide['func_preproc'][0])\n",
    "print(test_subj_0.shape,'\\n', test_subj_0.header, '\\n', test_subj_0.header.get_xyzt_units())"
   ]
  },
  {
   "cell_type": "code",
   "execution_count": 34,
   "metadata": {
    "colab": {
     "base_uri": "https://localhost:8080/",
     "height": 450
    },
    "id": "PKT_b00DHFMB",
    "outputId": "df008a45-1ccb-478c-b798-4561c528ff85"
   },
   "outputs": [
    {
     "data": {
      "text/plain": [
       "<matplotlib.image.AxesImage at 0x7f639d039a90>"
      ]
     },
     "execution_count": 34,
     "metadata": {},
     "output_type": "execute_result"
    },
    {
     "data": {
      "image/png": "[encoded data removed]",
      "text/plain": [
       "<Figure size 640x480 with 1 Axes>"
      ]
     },
     "metadata": {},
     "output_type": "display_data"
    }
   ],
   "source": [
    "mid_slice_fmri = test_subj_0.get_fdata()[40, :, :, 0] # Slice 40, first volume\n",
    "plt.imshow(mid_slice_fmri.T, cmap='gray', origin='lower') # 4D file"
   ]
  },
  {
   "cell_type": "code",
   "execution_count": 35,
   "metadata": {
    "colab": {
     "base_uri": "https://localhost:8080/"
    },
    "id": "Zx4_WCtwtubB",
    "outputId": "a830a5d5-952a-45e1-b1ee-06a69b2ff585"
   },
   "outputs": [
    {
     "name": "stderr",
     "output_type": "stream",
     "text": [
      "/oscar/home/apierre3/Neuromatch-Eotyrannus_Stick/venv/lib/python3.11/site-packages/nilearn/datasets/atlas.py:269: FutureWarning: The default behavior of the function will be deprecated and replaced in release 0.13 to use the new parameters homogeneity and grp_mean.\n",
      "  warnings.warn(\n"
     ]
    }
   ],
   "source": [
    "cc200 = datasets.fetch_atlas_craddock_2012(data_dir=None, url=None, resume=True, verbose=1, homogeneity=None, grp_mean=True)"
   ]
  },
  {
   "cell_type": "code",
   "execution_count": 36,
   "metadata": {
    "colab": {
     "base_uri": "https://localhost:8080/",
     "height": 448
    },
    "id": "L5Ty0o-tuE1i",
    "outputId": "5571249e-4ba0-41e0-843c-0394e32c5758"
   },
   "outputs": [
    {
     "data": {
      "text/plain": [
       "<matplotlib.image.AxesImage at 0x7f639d223050>"
      ]
     },
     "execution_count": 36,
     "metadata": {},
     "output_type": "execute_result"
    },
    {
     "data": {
      "image/png": "[encoded data removed]",
      "text/plain": [
       "<Figure size 640x480 with 1 Axes>"
      ]
     },
     "metadata": {},
     "output_type": "display_data"
    }
   ],
   "source": [
    "par_clusters = nib.load(cc200.random)\n",
    "mid_slice_fmri = par_clusters.get_fdata()[20, :, :, 0] # Slice 20, first volume\n",
    "plt.imshow(mid_slice_fmri.T, cmap='black_purple', origin='lower')"
   ]
  },
  {
   "cell_type": "code",
   "execution_count": 37,
   "metadata": {
    "colab": {
     "base_uri": "https://localhost:8080/",
     "height": 49,
     "referenced_widgets": [
      "a15bb6bf64e740a9b7dc0a8547c41b55",
      "03794786c2f1478e81adc504d795f0b0",
      "a865684cce4140e28be74104ae82674b",
      "b3a4ff51afb24593999b6a9ef83eeada",
      "6f4b831db8f44682ba02cd3aebba6c4a",
      "44447c3624f04cb48413c6cb384c458c",
      "d5410daf69ea450297feddfe09d9016a",
      "97e59455599d4132a250b55adf02c56b",
      "77eb4d60181e4d9a8e8196cdf065a592",
      "4f34f0cc4fcb4886a6956afc7c867a59",
      "26af17f022fd4ada88b897c373c35ae8"
     ]
    },
    "id": "ivtAuZ8wwZUY",
    "outputId": "6ff0afeb-fce2-4f11-fe39-f4c386de00c1"
   },
   "outputs": [
    {
     "data": {
      "text/plain": [
       "19900"
      ]
     },
     "execution_count": 37,
     "metadata": {},
     "output_type": "execute_result"
    }
   ],
   "source": [
    "half_dim = int(rois_dim * rois_dim/2 - rois_dim/2)\n",
    "half_dim"
   ]
  },
  {
   "cell_type": "code",
   "execution_count": 38,
   "metadata": {
    "colab": {
     "base_uri": "https://localhost:8080/",
     "height": 49,
     "referenced_widgets": [
      "a15bb6bf64e740a9b7dc0a8547c41b55",
      "03794786c2f1478e81adc504d795f0b0",
      "a865684cce4140e28be74104ae82674b",
      "b3a4ff51afb24593999b6a9ef83eeada",
      "6f4b831db8f44682ba02cd3aebba6c4a",
      "44447c3624f04cb48413c6cb384c458c",
      "d5410daf69ea450297feddfe09d9016a",
      "97e59455599d4132a250b55adf02c56b",
      "77eb4d60181e4d9a8e8196cdf065a592",
      "4f34f0cc4fcb4886a6956afc7c867a59",
      "26af17f022fd4ada88b897c373c35ae8"
     ]
    },
    "id": "ivtAuZ8wwZUY",
    "outputId": "6ff0afeb-fce2-4f11-fe39-f4c386de00c1"
   },
   "outputs": [],
   "source": [
    "corrpearson_subjects_path = nma_drive.joinpath(\"corrpearson_half_subjects.npy\")\n",
    "if not corrpearson_subjects_path.exists():\n",
    "    pearson_corr = ConnectivityMeasure(kind='correlation', discard_diagonal=True, vectorize=True) # Pearson\n",
    "    # covariance = ConnectivityMeasure(kind='covariance')\n",
    "    \n",
    "    with warnings.catch_warnings():\n",
    "        warnings.simplefilter(\"ignore\")  # Temporarily ignore FutureWarning\n",
    "        # Computing Functional Connectivity\n",
    "        # corrpearson_subjects = [pearson_corr.fit_transform(abide['rois_cc200'])[i] for i in tqdm(range(len(abide['rois_cc200'])))] # X _ features #\n",
    "        corrpearson_subjects = np.zeros((len(abide['rois_cc200']), half_dim,))\n",
    "        for idx, val in enumerate(tqdm(abide['rois_cc200'])):\n",
    "            corrpearson_subjects[idx, :] = pearson_corr.fit_transform(abide['rois_cc200'])[idx]\n",
    "        \n",
    "    # corrmat = pearson_corr.fit_transform(abide['rois_cc200'])[0]\n",
    "    # corr_pearson_seitzman = [correlation_Pearson.fit_transform([subjects_seitzman[i]])[0] for i in range(len(subjects_seitzman))]\n",
    "    np.save(corrpearson_subjects_path, corrpearson_subjects, allow_pickle=True, fix_imports=True)\n",
    "else:\n",
    "    corrpearson_subjects = np.load(corrpearson_subjects_path)"
   ]
  },
  {
   "cell_type": "code",
   "execution_count": 39,
   "metadata": {
    "colab": {
     "base_uri": "https://localhost:8080/"
    },
    "id": "pCCzvSn0ycl8",
    "outputId": "db259367-f15b-4587-b494-067d819d0787"
   },
   "outputs": [
    {
     "data": {
      "text/plain": [
       "(871, 19900)"
      ]
     },
     "execution_count": 39,
     "metadata": {},
     "output_type": "execute_result"
    }
   ],
   "source": [
    "np.asarray(corrpearson_subjects).shape"
   ]
  },
  {
   "cell_type": "code",
   "execution_count": 40,
   "metadata": {
    "colab": {
     "base_uri": "https://localhost:8080/"
    },
    "id": "JlISrsFNU74R",
    "outputId": "a2bdc22c-602a-40ed-a0d1-18bc4d980a79"
   },
   "outputs": [],
   "source": [
    "corrpearson_subjects = torch.tensor(corrpearson_subjects)"
   ]
  },
  {
   "cell_type": "markdown",
   "metadata": {
    "id": "uDBK3StyhRbK"
   },
   "source": [
    "# Autoencoder"
   ]
  },
  {
   "cell_type": "code",
   "execution_count": 41,
   "metadata": {
    "colab": {
     "base_uri": "https://localhost:8080/"
    },
    "id": "U3nK5CVWxKFJ",
    "outputId": "f789f8b1-fd5a-4b0d-e5b5-2813f56456f0"
   },
   "outputs": [
    {
     "data": {
      "text/plain": [
       "torch.Size([871, 19900])"
      ]
     },
     "execution_count": 41,
     "metadata": {},
     "output_type": "execute_result"
    }
   ],
   "source": [
    "# import torch\n",
    "# import torch.nn as nn\n",
    "\n",
    "X = corrpearson_subjects.float()\n",
    "# X = corrpearson_subjects.float().reshape(corrpearson_subjects.shape[0], -1)\n",
    "X.shape"
   ]
  },
  {
   "cell_type": "code",
   "execution_count": 42,
   "metadata": {
    "colab": {
     "base_uri": "https://localhost:8080/"
    },
    "id": "U3nK5CVWxKFJ",
    "outputId": "f789f8b1-fd5a-4b0d-e5b5-2813f56456f0"
   },
   "outputs": [
    {
     "name": "stdout",
     "output_type": "stream",
     "text": [
      "Epoch [1/200], Loss: 0.0863\n",
      "Epoch [2/200], Loss: 0.0874\n",
      "Epoch [3/200], Loss: 0.0445\n",
      "Epoch [4/200], Loss: 0.0349\n",
      "Epoch [5/200], Loss: 0.0435\n",
      "Epoch [6/200], Loss: 0.0275\n",
      "Epoch [7/200], Loss: 0.0377\n",
      "Epoch [8/200], Loss: 0.0264\n",
      "Epoch [9/200], Loss: 0.0311\n",
      "Epoch [10/200], Loss: 0.0263\n",
      "Epoch [11/200], Loss: 0.0267\n",
      "Epoch [12/200], Loss: 0.0256\n",
      "Epoch [13/200], Loss: 0.0240\n",
      "Epoch [14/200], Loss: 0.0244\n",
      "Epoch [15/200], Loss: 0.0233\n",
      "Epoch [16/200], Loss: 0.0236\n",
      "Epoch [17/200], Loss: 0.0230\n",
      "Epoch [18/200], Loss: 0.0219\n",
      "Epoch [19/200], Loss: 0.0221\n",
      "Epoch [20/200], Loss: 0.0207\n",
      "Epoch [21/200], Loss: 0.0213\n",
      "Epoch [22/200], Loss: 0.0203\n",
      "Epoch [23/200], Loss: 0.0210\n",
      "Epoch [24/200], Loss: 0.0196\n",
      "Epoch [25/200], Loss: 0.0200\n",
      "Epoch [26/200], Loss: 0.0197\n",
      "Epoch [27/200], Loss: 0.0190\n",
      "Epoch [28/200], Loss: 0.0194\n",
      "Epoch [29/200], Loss: 0.0195\n",
      "Epoch [30/200], Loss: 0.0189\n",
      "Epoch [31/200], Loss: 0.0186\n",
      "Epoch [32/200], Loss: 0.0190\n",
      "Epoch [33/200], Loss: 0.0192\n",
      "Epoch [34/200], Loss: 0.0187\n",
      "Epoch [35/200], Loss: 0.0184\n",
      "Epoch [36/200], Loss: 0.0187\n",
      "Epoch [37/200], Loss: 0.0191\n",
      "Epoch [38/200], Loss: 0.0197\n",
      "Epoch [39/200], Loss: 0.0194\n",
      "Epoch [40/200], Loss: 0.0188\n",
      "Epoch [41/200], Loss: 0.0182\n",
      "Epoch [42/200], Loss: 0.0187\n",
      "Epoch [43/200], Loss: 0.0188\n",
      "Epoch [44/200], Loss: 0.0182\n",
      "Epoch [45/200], Loss: 0.0184\n",
      "Epoch [46/200], Loss: 0.0187\n",
      "Epoch [47/200], Loss: 0.0182\n",
      "Epoch [48/200], Loss: 0.0181\n",
      "Epoch [49/200], Loss: 0.0184\n",
      "Epoch [50/200], Loss: 0.0181\n",
      "Epoch [51/200], Loss: 0.0181\n",
      "Epoch [52/200], Loss: 0.0182\n",
      "Epoch [53/200], Loss: 0.0179\n",
      "Epoch [54/200], Loss: 0.0180\n",
      "Epoch [55/200], Loss: 0.0181\n",
      "Epoch [56/200], Loss: 0.0179\n",
      "Epoch [57/200], Loss: 0.0178\n",
      "Epoch [58/200], Loss: 0.0179\n",
      "Epoch [59/200], Loss: 0.0179\n",
      "Epoch [60/200], Loss: 0.0177\n",
      "Epoch [61/200], Loss: 0.0177\n",
      "Epoch [62/200], Loss: 0.0177\n",
      "Epoch [63/200], Loss: 0.0178\n",
      "Epoch [64/200], Loss: 0.0179\n",
      "Epoch [65/200], Loss: 0.0179\n",
      "Epoch [66/200], Loss: 0.0177\n",
      "Epoch [67/200], Loss: 0.0176\n",
      "Epoch [68/200], Loss: 0.0175\n",
      "Epoch [69/200], Loss: 0.0175\n",
      "Epoch [70/200], Loss: 0.0175\n",
      "Epoch [71/200], Loss: 0.0175\n",
      "Epoch [72/200], Loss: 0.0175\n",
      "Epoch [73/200], Loss: 0.0174\n",
      "Epoch [74/200], Loss: 0.0174\n",
      "Epoch [75/200], Loss: 0.0173\n",
      "Epoch [76/200], Loss: 0.0173\n",
      "Epoch [77/200], Loss: 0.0172\n",
      "Epoch [78/200], Loss: 0.0172\n",
      "Epoch [79/200], Loss: 0.0172\n",
      "Epoch [80/200], Loss: 0.0172\n",
      "Epoch [81/200], Loss: 0.0174\n",
      "Epoch [82/200], Loss: 0.0185\n",
      "Epoch [83/200], Loss: 0.0210\n",
      "Epoch [84/200], Loss: 0.0243\n",
      "Epoch [85/200], Loss: 0.0214\n",
      "Epoch [86/200], Loss: 0.0214\n",
      "Epoch [87/200], Loss: 0.0191\n",
      "Epoch [88/200], Loss: 0.0179\n",
      "Epoch [89/200], Loss: 0.0183\n",
      "Epoch [90/200], Loss: 0.0185\n",
      "Epoch [91/200], Loss: 0.0183\n",
      "Epoch [92/200], Loss: 0.0178\n",
      "Epoch [93/200], Loss: 0.0177\n",
      "Epoch [94/200], Loss: 0.0178\n",
      "Epoch [95/200], Loss: 0.0179\n",
      "Epoch [96/200], Loss: 0.0177\n",
      "Epoch [97/200], Loss: 0.0176\n",
      "Epoch [98/200], Loss: 0.0174\n",
      "Epoch [99/200], Loss: 0.0174\n",
      "Epoch [100/200], Loss: 0.0173\n",
      "Epoch [101/200], Loss: 0.0171\n",
      "Epoch [102/200], Loss: 0.0170\n",
      "Epoch [103/200], Loss: 0.0170\n",
      "Epoch [104/200], Loss: 0.0169\n",
      "Epoch [105/200], Loss: 0.0168\n",
      "Epoch [106/200], Loss: 0.0167\n",
      "Epoch [107/200], Loss: 0.0166\n",
      "Epoch [108/200], Loss: 0.0166\n",
      "Epoch [109/200], Loss: 0.0165\n",
      "Epoch [110/200], Loss: 0.0164\n",
      "Epoch [111/200], Loss: 0.0163\n",
      "Epoch [112/200], Loss: 0.0162\n",
      "Epoch [113/200], Loss: 0.0162\n",
      "Epoch [114/200], Loss: 0.0161\n",
      "Epoch [115/200], Loss: 0.0160\n",
      "Epoch [116/200], Loss: 0.0160\n",
      "Epoch [117/200], Loss: 0.0160\n",
      "Epoch [118/200], Loss: 0.0160\n",
      "Epoch [119/200], Loss: 0.0164\n",
      "Epoch [120/200], Loss: 0.0180\n",
      "Epoch [121/200], Loss: 0.0192\n",
      "Epoch [122/200], Loss: 0.0198\n",
      "Epoch [123/200], Loss: 0.0191\n",
      "Epoch [124/200], Loss: 0.0184\n",
      "Epoch [125/200], Loss: 0.0174\n",
      "Epoch [126/200], Loss: 0.0165\n",
      "Epoch [127/200], Loss: 0.0167\n",
      "Epoch [128/200], Loss: 0.0170\n",
      "Epoch [129/200], Loss: 0.0165\n",
      "Epoch [130/200], Loss: 0.0166\n",
      "Epoch [131/200], Loss: 0.0163\n",
      "Epoch [132/200], Loss: 0.0163\n",
      "Epoch [133/200], Loss: 0.0164\n",
      "Epoch [134/200], Loss: 0.0162\n",
      "Epoch [135/200], Loss: 0.0162\n",
      "Epoch [136/200], Loss: 0.0161\n",
      "Epoch [137/200], Loss: 0.0160\n",
      "Epoch [138/200], Loss: 0.0160\n",
      "Epoch [139/200], Loss: 0.0159\n",
      "Epoch [140/200], Loss: 0.0158\n",
      "Epoch [141/200], Loss: 0.0158\n",
      "Epoch [142/200], Loss: 0.0157\n",
      "Epoch [143/200], Loss: 0.0156\n",
      "Epoch [144/200], Loss: 0.0156\n",
      "Epoch [145/200], Loss: 0.0155\n",
      "Epoch [146/200], Loss: 0.0155\n",
      "Epoch [147/200], Loss: 0.0154\n",
      "Epoch [148/200], Loss: 0.0154\n",
      "Epoch [149/200], Loss: 0.0154\n",
      "Epoch [150/200], Loss: 0.0155\n",
      "Epoch [151/200], Loss: 0.0162\n",
      "Epoch [152/200], Loss: 0.0191\n",
      "Epoch [153/200], Loss: 0.0264\n",
      "Epoch [154/200], Loss: 0.0192\n",
      "Epoch [155/200], Loss: 0.0199\n",
      "Epoch [156/200], Loss: 0.0182\n",
      "Epoch [157/200], Loss: 0.0180\n",
      "Epoch [158/200], Loss: 0.0169\n",
      "Epoch [159/200], Loss: 0.0169\n",
      "Epoch [160/200], Loss: 0.0170\n",
      "Epoch [161/200], Loss: 0.0165\n",
      "Epoch [162/200], Loss: 0.0165\n",
      "Epoch [163/200], Loss: 0.0164\n",
      "Epoch [164/200], Loss: 0.0163\n",
      "Epoch [165/200], Loss: 0.0160\n",
      "Epoch [166/200], Loss: 0.0159\n",
      "Epoch [167/200], Loss: 0.0160\n",
      "Epoch [168/200], Loss: 0.0158\n",
      "Epoch [169/200], Loss: 0.0158\n",
      "Epoch [170/200], Loss: 0.0157\n",
      "Epoch [171/200], Loss: 0.0157\n",
      "Epoch [172/200], Loss: 0.0158\n",
      "Epoch [173/200], Loss: 0.0162\n",
      "Epoch [174/200], Loss: 0.0171\n",
      "Epoch [175/200], Loss: 0.0188\n",
      "Epoch [176/200], Loss: 0.0166\n",
      "Epoch [177/200], Loss: 0.0155\n",
      "Epoch [178/200], Loss: 0.0163\n",
      "Epoch [179/200], Loss: 0.0152\n",
      "Epoch [180/200], Loss: 0.0159\n",
      "Epoch [181/200], Loss: 0.0151\n",
      "Epoch [182/200], Loss: 0.0154\n",
      "Epoch [183/200], Loss: 0.0151\n",
      "Epoch [184/200], Loss: 0.0152\n",
      "Epoch [185/200], Loss: 0.0150\n",
      "Epoch [186/200], Loss: 0.0151\n",
      "Epoch [187/200], Loss: 0.0148\n",
      "Epoch [188/200], Loss: 0.0150\n",
      "Epoch [189/200], Loss: 0.0147\n",
      "Epoch [190/200], Loss: 0.0147\n",
      "Epoch [191/200], Loss: 0.0146\n",
      "Epoch [192/200], Loss: 0.0146\n",
      "Epoch [193/200], Loss: 0.0145\n",
      "Epoch [194/200], Loss: 0.0145\n",
      "Epoch [195/200], Loss: 0.0144\n",
      "Epoch [196/200], Loss: 0.0144\n",
      "Epoch [197/200], Loss: 0.0143\n",
      "Epoch [198/200], Loss: 0.0143\n",
      "Epoch [199/200], Loss: 0.0142\n",
      "Epoch [200/200], Loss: 0.0142\n"
     ]
    }
   ],
   "source": [
    "# Definir la clase del primer autoencoder\n",
    "class Autoencoder1(nn.Module):\n",
    "    def __init__(self):\n",
    "        super(Autoencoder1, self).__init__()\n",
    "        self.encoder = nn.Sequential(\n",
    "            nn.Linear(19900, 10000),\n",
    "            nn.Tanh(),#nn.ReLU()\n",
    "            nn.Linear(10000, 5000),\n",
    "            nn.Tanh(),\n",
    "            nn.Linear(5000, 1000),\n",
    "            nn.Tanh()\n",
    "        )\n",
    "        self.decoder = nn.Sequential(\n",
    "            nn.Linear(1000, 5000),\n",
    "            nn.Tanh(), #nn.ReLU()\n",
    "            nn.Linear(5000, 10000),\n",
    "            nn.Tanh(),\n",
    "            nn.Linear(10000, 19900),\n",
    "            nn.Tanh()\n",
    "        )\n",
    "        self.corruption = nn.Dropout(p=0.2)\n",
    "\n",
    "    def forward(self, x):\n",
    "        #x_corrupted = torch.bernoulli(x, p=0.2) * x\n",
    "        #x = self.encoder(x_corrupted)\n",
    "        x = self.corruption(x) ## esta borrar\n",
    "        x = self.encoder(x) ## esta borrar\n",
    "        x = self.decoder(x)\n",
    "        return x\n",
    "\n",
    "# Crear una instancia del primer autoencoder\n",
    "autoencoder1 = Autoencoder1().float()\n",
    "\n",
    "# Definir la función de pérdida y el optimizador\n",
    "criterion = nn.MSELoss()\n",
    "optimizer = torch.optim.Adam(autoencoder1.parameters(), lr=0.0001) # 0.001\n",
    "\n",
    "# Entrenamiento\n",
    "num_epochs = 200\n",
    "# num_epochs = 70\n",
    "for epoch in range(num_epochs):\n",
    "    # Forward pass\n",
    "    outputs = autoencoder1(X)\n",
    "\n",
    "    # Calcular la pérdida\n",
    "    loss = criterion(outputs, X)\n",
    "\n",
    "    # Backward pass y optimización\n",
    "    optimizer.zero_grad()\n",
    "    loss.backward()\n",
    "    optimizer.step()\n",
    "\n",
    "    # Imprimir información del entrenamiento\n",
    "    print(f\"Epoch [{epoch+1}/{num_epochs}], Loss: {loss.item():.4f}\")\n",
    "\n",
    "# Obtener la representación reducida de los datos\n",
    "encoded_data = autoencoder1.encoder(X)"
   ]
  },
  {
   "cell_type": "code",
   "execution_count": 43,
   "metadata": {
    "colab": {
     "base_uri": "https://localhost:8080/"
    },
    "id": "xGvGF3jt1wET",
    "outputId": "00de5143-db28-467e-cdc6-ec0559ff6747"
   },
   "outputs": [
    {
     "name": "stdout",
     "output_type": "stream",
     "text": [
      "Epoch [1/200], Loss: 0.2075\n",
      "Epoch [2/200], Loss: 0.1226\n",
      "Epoch [3/200], Loss: 0.0701\n",
      "Epoch [4/200], Loss: 0.0493\n",
      "Epoch [5/200], Loss: 0.0436\n",
      "Epoch [6/200], Loss: 0.0405\n",
      "Epoch [7/200], Loss: 0.0371\n",
      "Epoch [8/200], Loss: 0.0334\n",
      "Epoch [9/200], Loss: 0.0310\n",
      "Epoch [10/200], Loss: 0.0297\n",
      "Epoch [11/200], Loss: 0.0282\n",
      "Epoch [12/200], Loss: 0.0262\n",
      "Epoch [13/200], Loss: 0.0240\n",
      "Epoch [14/200], Loss: 0.0224\n",
      "Epoch [15/200], Loss: 0.0212\n",
      "Epoch [16/200], Loss: 0.0202\n",
      "Epoch [17/200], Loss: 0.0192\n",
      "Epoch [18/200], Loss: 0.0180\n",
      "Epoch [19/200], Loss: 0.0170\n",
      "Epoch [20/200], Loss: 0.0161\n",
      "Epoch [21/200], Loss: 0.0153\n",
      "Epoch [22/200], Loss: 0.0145\n",
      "Epoch [23/200], Loss: 0.0138\n",
      "Epoch [24/200], Loss: 0.0131\n",
      "Epoch [25/200], Loss: 0.0124\n",
      "Epoch [26/200], Loss: 0.0119\n",
      "Epoch [27/200], Loss: 0.0115\n",
      "Epoch [28/200], Loss: 0.0110\n",
      "Epoch [29/200], Loss: 0.0104\n",
      "Epoch [30/200], Loss: 0.0099\n",
      "Epoch [31/200], Loss: 0.0096\n",
      "Epoch [32/200], Loss: 0.0092\n",
      "Epoch [33/200], Loss: 0.0089\n",
      "Epoch [34/200], Loss: 0.0086\n",
      "Epoch [35/200], Loss: 0.0083\n",
      "Epoch [36/200], Loss: 0.0080\n",
      "Epoch [37/200], Loss: 0.0077\n",
      "Epoch [38/200], Loss: 0.0075\n",
      "Epoch [39/200], Loss: 0.0073\n",
      "Epoch [40/200], Loss: 0.0070\n",
      "Epoch [41/200], Loss: 0.0069\n",
      "Epoch [42/200], Loss: 0.0066\n",
      "Epoch [43/200], Loss: 0.0065\n",
      "Epoch [44/200], Loss: 0.0063\n",
      "Epoch [45/200], Loss: 0.0061\n",
      "Epoch [46/200], Loss: 0.0060\n",
      "Epoch [47/200], Loss: 0.0058\n",
      "Epoch [48/200], Loss: 0.0057\n",
      "Epoch [49/200], Loss: 0.0055\n",
      "Epoch [50/200], Loss: 0.0054\n",
      "Epoch [51/200], Loss: 0.0053\n",
      "Epoch [52/200], Loss: 0.0052\n",
      "Epoch [53/200], Loss: 0.0051\n",
      "Epoch [54/200], Loss: 0.0050\n",
      "Epoch [55/200], Loss: 0.0049\n",
      "Epoch [56/200], Loss: 0.0048\n",
      "Epoch [57/200], Loss: 0.0047\n",
      "Epoch [58/200], Loss: 0.0046\n",
      "Epoch [59/200], Loss: 0.0046\n",
      "Epoch [60/200], Loss: 0.0045\n",
      "Epoch [61/200], Loss: 0.0044\n",
      "Epoch [62/200], Loss: 0.0044\n",
      "Epoch [63/200], Loss: 0.0043\n",
      "Epoch [64/200], Loss: 0.0042\n",
      "Epoch [65/200], Loss: 0.0042\n",
      "Epoch [66/200], Loss: 0.0041\n",
      "Epoch [67/200], Loss: 0.0040\n",
      "Epoch [68/200], Loss: 0.0040\n",
      "Epoch [69/200], Loss: 0.0039\n",
      "Epoch [70/200], Loss: 0.0039\n",
      "Epoch [71/200], Loss: 0.0038\n",
      "Epoch [72/200], Loss: 0.0038\n",
      "Epoch [73/200], Loss: 0.0037\n",
      "Epoch [74/200], Loss: 0.0037\n",
      "Epoch [75/200], Loss: 0.0037\n",
      "Epoch [76/200], Loss: 0.0036\n",
      "Epoch [77/200], Loss: 0.0036\n",
      "Epoch [78/200], Loss: 0.0035\n",
      "Epoch [79/200], Loss: 0.0035\n",
      "Epoch [80/200], Loss: 0.0035\n",
      "Epoch [81/200], Loss: 0.0034\n",
      "Epoch [82/200], Loss: 0.0034\n",
      "Epoch [83/200], Loss: 0.0034\n",
      "Epoch [84/200], Loss: 0.0033\n",
      "Epoch [85/200], Loss: 0.0033\n",
      "Epoch [86/200], Loss: 0.0033\n",
      "Epoch [87/200], Loss: 0.0032\n",
      "Epoch [88/200], Loss: 0.0032\n",
      "Epoch [89/200], Loss: 0.0032\n",
      "Epoch [90/200], Loss: 0.0031\n",
      "Epoch [91/200], Loss: 0.0031\n",
      "Epoch [92/200], Loss: 0.0031\n",
      "Epoch [93/200], Loss: 0.0031\n",
      "Epoch [94/200], Loss: 0.0030\n",
      "Epoch [95/200], Loss: 0.0030\n",
      "Epoch [96/200], Loss: 0.0030\n",
      "Epoch [97/200], Loss: 0.0030\n",
      "Epoch [98/200], Loss: 0.0029\n",
      "Epoch [99/200], Loss: 0.0029\n",
      "Epoch [100/200], Loss: 0.0029\n",
      "Epoch [101/200], Loss: 0.0029\n",
      "Epoch [102/200], Loss: 0.0028\n",
      "Epoch [103/200], Loss: 0.0028\n",
      "Epoch [104/200], Loss: 0.0028\n",
      "Epoch [105/200], Loss: 0.0028\n",
      "Epoch [106/200], Loss: 0.0027\n",
      "Epoch [107/200], Loss: 0.0027\n",
      "Epoch [108/200], Loss: 0.0027\n",
      "Epoch [109/200], Loss: 0.0027\n",
      "Epoch [110/200], Loss: 0.0027\n",
      "Epoch [111/200], Loss: 0.0027\n",
      "Epoch [112/200], Loss: 0.0026\n",
      "Epoch [113/200], Loss: 0.0026\n",
      "Epoch [114/200], Loss: 0.0026\n",
      "Epoch [115/200], Loss: 0.0026\n",
      "Epoch [116/200], Loss: 0.0026\n",
      "Epoch [117/200], Loss: 0.0025\n",
      "Epoch [118/200], Loss: 0.0025\n",
      "Epoch [119/200], Loss: 0.0025\n",
      "Epoch [120/200], Loss: 0.0025\n",
      "Epoch [121/200], Loss: 0.0025\n",
      "Epoch [122/200], Loss: 0.0025\n",
      "Epoch [123/200], Loss: 0.0024\n",
      "Epoch [124/200], Loss: 0.0024\n",
      "Epoch [125/200], Loss: 0.0024\n",
      "Epoch [126/200], Loss: 0.0024\n",
      "Epoch [127/200], Loss: 0.0024\n",
      "Epoch [128/200], Loss: 0.0024\n",
      "Epoch [129/200], Loss: 0.0024\n",
      "Epoch [130/200], Loss: 0.0023\n",
      "Epoch [131/200], Loss: 0.0023\n",
      "Epoch [132/200], Loss: 0.0023\n",
      "Epoch [133/200], Loss: 0.0023\n",
      "Epoch [134/200], Loss: 0.0023\n",
      "Epoch [135/200], Loss: 0.0023\n",
      "Epoch [136/200], Loss: 0.0023\n",
      "Epoch [137/200], Loss: 0.0022\n",
      "Epoch [138/200], Loss: 0.0022\n",
      "Epoch [139/200], Loss: 0.0022\n",
      "Epoch [140/200], Loss: 0.0022\n",
      "Epoch [141/200], Loss: 0.0022\n",
      "Epoch [142/200], Loss: 0.0022\n",
      "Epoch [143/200], Loss: 0.0022\n",
      "Epoch [144/200], Loss: 0.0022\n",
      "Epoch [145/200], Loss: 0.0022\n",
      "Epoch [146/200], Loss: 0.0021\n",
      "Epoch [147/200], Loss: 0.0022\n",
      "Epoch [148/200], Loss: 0.0021\n",
      "Epoch [149/200], Loss: 0.0021\n",
      "Epoch [150/200], Loss: 0.0021\n",
      "Epoch [151/200], Loss: 0.0021\n",
      "Epoch [152/200], Loss: 0.0021\n",
      "Epoch [153/200], Loss: 0.0021\n",
      "Epoch [154/200], Loss: 0.0021\n",
      "Epoch [155/200], Loss: 0.0021\n",
      "Epoch [156/200], Loss: 0.0020\n",
      "Epoch [157/200], Loss: 0.0020\n",
      "Epoch [158/200], Loss: 0.0020\n",
      "Epoch [159/200], Loss: 0.0020\n",
      "Epoch [160/200], Loss: 0.0020\n",
      "Epoch [161/200], Loss: 0.0020\n",
      "Epoch [162/200], Loss: 0.0020\n",
      "Epoch [163/200], Loss: 0.0020\n",
      "Epoch [164/200], Loss: 0.0020\n",
      "Epoch [165/200], Loss: 0.0020\n",
      "Epoch [166/200], Loss: 0.0020\n",
      "Epoch [167/200], Loss: 0.0020\n",
      "Epoch [168/200], Loss: 0.0020\n",
      "Epoch [169/200], Loss: 0.0019\n",
      "Epoch [170/200], Loss: 0.0019\n",
      "Epoch [171/200], Loss: 0.0019\n",
      "Epoch [172/200], Loss: 0.0019\n",
      "Epoch [173/200], Loss: 0.0019\n",
      "Epoch [174/200], Loss: 0.0019\n",
      "Epoch [175/200], Loss: 0.0019\n",
      "Epoch [176/200], Loss: 0.0019\n",
      "Epoch [177/200], Loss: 0.0019\n",
      "Epoch [178/200], Loss: 0.0019\n",
      "Epoch [179/200], Loss: 0.0019\n",
      "Epoch [180/200], Loss: 0.0019\n",
      "Epoch [181/200], Loss: 0.0019\n",
      "Epoch [182/200], Loss: 0.0019\n",
      "Epoch [183/200], Loss: 0.0018\n",
      "Epoch [184/200], Loss: 0.0019\n",
      "Epoch [185/200], Loss: 0.0018\n",
      "Epoch [186/200], Loss: 0.0018\n",
      "Epoch [187/200], Loss: 0.0018\n",
      "Epoch [188/200], Loss: 0.0018\n",
      "Epoch [189/200], Loss: 0.0018\n",
      "Epoch [190/200], Loss: 0.0018\n",
      "Epoch [191/200], Loss: 0.0018\n",
      "Epoch [192/200], Loss: 0.0018\n",
      "Epoch [193/200], Loss: 0.0018\n",
      "Epoch [194/200], Loss: 0.0018\n",
      "Epoch [195/200], Loss: 0.0017\n",
      "Epoch [196/200], Loss: 0.0017\n",
      "Epoch [197/200], Loss: 0.0018\n",
      "Epoch [198/200], Loss: 0.0017\n",
      "Epoch [199/200], Loss: 0.0017\n",
      "Epoch [200/200], Loss: 0.0017\n",
      "tensor([[-0.0181, -0.9681,  0.1983,  ...,  0.7470,  0.6320, -0.3034],\n",
      "        [-0.0427, -0.9682,  0.6957,  ...,  0.7940, -0.6169,  0.0506],\n",
      "        [ 0.5626, -0.9816,  0.3883,  ...,  0.5516, -0.2038, -0.4934],\n",
      "        ...,\n",
      "        [-0.6915, -0.9693,  0.7885,  ...,  0.6404, -0.4069, -0.0613],\n",
      "        [-0.3266, -0.9436,  0.8654,  ...,  0.6670, -0.7058,  0.5725],\n",
      "        [ 0.2383, -0.9839,  0.4686,  ...,  0.7922, -0.5975,  0.0116]],\n",
      "       grad_fn=<TanhBackward0>)\n"
     ]
    }
   ],
   "source": [
    "# Definir la clase del segundo autoencoder\n",
    "class Autoencoder2(nn.Module):\n",
    "    def __init__(self):\n",
    "        super(Autoencoder2, self).__init__()\n",
    "        self.encoder = nn.Sequential(\n",
    "            nn.Linear(1000, 600),\n",
    "            nn.Tanh()\n",
    "        )\n",
    "        self.decoder = nn.Sequential(\n",
    "            nn.Linear(600, 1000),\n",
    "            nn.Tanh()\n",
    "        )\n",
    "        self.corruption = nn.Dropout(p=0.3)\n",
    "\n",
    "    def forward(self, x):\n",
    "        #x_corrupted = x.clone()\n",
    "        #x_corrupted.bernoulli_(p=0.3)  # Aplicar corrupción directamente al tensor sin crear uno nuevo\n",
    "        #x = self.encoder(x_corrupted)\n",
    "        x = self.corruption(x) ## esta borrar\n",
    "        x = self.encoder(x) ## esta borrar\n",
    "        x = self.decoder(x)\n",
    "        return x\n",
    "\n",
    "# Crear una instancia del segundo autoencoder\n",
    "autoencoder2 = Autoencoder2().float()\n",
    "\n",
    "# Definir la función de pérdida y el optimizador\n",
    "criterion_2 = nn.MSELoss()\n",
    "optimizer = torch.optim.Adam(autoencoder2.parameters(), lr=0.001) #0.001\n",
    "# Entrenamiento\n",
    "num_epochs = 200\n",
    "autoencoder2.train()  # Cambiar el modo a entrenamiento\n",
    "for epoch in range(num_epochs):\n",
    "    # Forward pass\n",
    "    outputs = autoencoder2(encoded_data)\n",
    "\n",
    "    # Calcular la pérdida\n",
    "    loss = criterion_2(outputs, encoded_data)\n",
    "\n",
    "    # Backward pass y optimización\n",
    "    optimizer.zero_grad()\n",
    "    loss.backward(retain_graph=True)  # Agregar retain_graph=True\n",
    "    optimizer.step()\n",
    "\n",
    "    # Imprimir información del entrenamiento\n",
    "    print(f\"Epoch [{epoch+1}/{num_epochs}], Loss: {loss.item():.4f}\")\n",
    "\n",
    "# Obtener la representación reducida de los datos\n",
    "encoded_data_2 = autoencoder2.encoder(encoded_data)  # Usar la salida del primer autoencoder como entrada para el segundo\n",
    "\n",
    "# Imprimir información de la representación reducida\n",
    "print(encoded_data_2)"
   ]
  },
  {
   "cell_type": "code",
   "execution_count": 44,
   "metadata": {
    "colab": {
     "base_uri": "https://localhost:8080/"
    },
    "id": "S_0aR5Mm16dJ",
    "outputId": "9820fff7-6274-4358-9521-89d2e8596f4c"
   },
   "outputs": [
    {
     "data": {
      "text/plain": [
       "torch.Size([871, 600])"
      ]
     },
     "execution_count": 44,
     "metadata": {},
     "output_type": "execute_result"
    }
   ],
   "source": [
    "encoded_data_2.shape"
   ]
  },
  {
   "cell_type": "code",
   "execution_count": 45,
   "metadata": {
    "id": "U4IE9KQbbFQv"
   },
   "outputs": [],
   "source": [
    "Y_tensor = torch.tensor(y_target)"
   ]
  },
  {
   "cell_type": "markdown",
   "metadata": {
    "id": "T806VF2CRps8"
   },
   "source": [
    "DATA LOADER"
   ]
  },
  {
   "cell_type": "code",
   "execution_count": 46,
   "metadata": {
    "id": "iyBjabjUdxG2"
   },
   "outputs": [],
   "source": [
    "def shuffle_and_split_data(X, y, seed):\n",
    "  \"\"\"\n",
    "  Helper function to shuffle and split incoming data\n",
    "\n",
    "  Args:\n",
    "    X: torch.tensor\n",
    "      Input data\n",
    "    y: torch.tensor\n",
    "      Corresponding target variables\n",
    "    seed: int\n",
    "      Set seed for reproducibility\n",
    "\n",
    "  Returns:\n",
    "    X_test: torch.tensor\n",
    "      Test data [20% of X]\n",
    "    y_test: torch.tensor\n",
    "      Labels corresponding to above mentioned test data\n",
    "    X_train: torch.tensor\n",
    "      Train data [80% of X]\n",
    "    y_train: torch.tensor\n",
    "      Labels corresponding to above mentioned train data\n",
    "  \"\"\"\n",
    "  torch.manual_seed(seed)\n",
    "\n",
    "  X = X.detach().numpy()\n",
    "  y = y.detach().numpy()\n",
    "  #X = np.asarray(X)\n",
    "  # Number of samples\n",
    "  N = X.shape[0]\n",
    "  print(N)\n",
    "  ####################################################################\n",
    "  # Fill in missing code below (...),\n",
    "  # then remove or comment the line below to test your function\n",
    "  # raise NotImplementedError(\"Shuffle & split data\")\n",
    "  ####################################################################\n",
    "  # Shuffle data\n",
    "  shuffled_indices = torch.randperm(N)  # Get indices to shuffle data, could use torch.randperm\n",
    "  X = X[shuffled_indices]\n",
    "  y = y[shuffled_indices]\n",
    "\n",
    "  # Split data into train/test\n",
    "  test_size = int(0.2 * N)    # Assign test datset size using 20% of samples\n",
    "  X_test = X[:test_size]\n",
    "  y_test = y[:test_size]\n",
    "  X_train = X[test_size:]\n",
    "  y_train = y[test_size:]\n",
    "\n",
    "  return torch.from_numpy(X_test).float(), torch.from_numpy(y_test).float(), torch.from_numpy(X_train), torch.from_numpy(y_train)\n"
   ]
  },
  {
   "cell_type": "code",
   "execution_count": 47,
   "metadata": {
    "colab": {
     "base_uri": "https://localhost:8080/"
    },
    "id": "22eB86hcPjtW",
    "outputId": "4e8925a0-d42a-47ad-88da-52f321a40978"
   },
   "outputs": [
    {
     "name": "stdout",
     "output_type": "stream",
     "text": [
      "871\n"
     ]
    }
   ],
   "source": [
    "X_test, y_test, X_train, y_train = shuffle_and_split_data(encoded_data, Y_tensor, seed=SEED) # encoded_data_2"
   ]
  },
  {
   "cell_type": "code",
   "execution_count": 48,
   "metadata": {
    "colab": {
     "base_uri": "https://localhost:8080/"
    },
    "id": "22eB86hcPjtW",
    "outputId": "4e8925a0-d42a-47ad-88da-52f321a40978"
   },
   "outputs": [
    {
     "name": "stdout",
     "output_type": "stream",
     "text": [
      "torch.Size([697, 1000])\n",
      "torch.Size([174, 1000])\n"
     ]
    }
   ],
   "source": [
    "# Convertir X_train a una matriz de dos dimensiones (8, 200*200)\n",
    "X_train = X_train.reshape(X_train.shape[0], -1)\n",
    "print(X_train.shape)\n",
    "# Convertir X_test a una matriz de dos dimensiones (2, 200*200)\n",
    "X_test = X_test.reshape(X_test.shape[0], -1)\n",
    "print(X_test.shape)"
   ]
  },
  {
   "cell_type": "code",
   "execution_count": 49,
   "metadata": {
    "colab": {
     "base_uri": "https://localhost:8080/"
    },
    "id": "GOVq6vv6I8TR",
    "outputId": "6b4d1621-e1ad-45af-96a9-694475239060"
   },
   "outputs": [
    {
     "name": "stdout",
     "output_type": "stream",
     "text": [
      "torch.Size([174, 1000]) torch.Size([174]) torch.Size([697, 1000]) torch.Size([697])\n"
     ]
    }
   ],
   "source": [
    "print(X_test.shape, y_test.shape, X_train.shape, y_train.shape)"
   ]
  },
  {
   "cell_type": "code",
   "execution_count": 50,
   "metadata": {
    "id": "RPdElJIomO0r"
   },
   "outputs": [],
   "source": [
    "g_seed = torch.Generator()\n",
    "g_seed.manual_seed(SEED)\n",
    "\n",
    "batch_size = 32\n",
    "test_data = TensorDataset(X_test, y_test)\n",
    "test_loader = DataLoader(test_data, batch_size=batch_size,\n",
    "                         shuffle=False, num_workers=0,\n",
    "                         worker_init_fn=seed_worker,\n",
    "                         generator=g_seed)\n",
    "\n",
    "\n",
    "train_data = TensorDataset(X_train, y_train)\n",
    "train_loader = DataLoader(train_data, batch_size=batch_size, drop_last=True,\n",
    "                          shuffle=True, num_workers=0,\n",
    "                          worker_init_fn=seed_worker,\n",
    "                          generator=g_seed)"
   ]
  },
  {
   "cell_type": "code",
   "execution_count": 51,
   "metadata": {
    "colab": {
     "base_uri": "https://localhost:8080/"
    },
    "id": "OxaOXRvpI6Gz",
    "outputId": "fdb15cf5-8a2e-4786-9a3f-a8d19cdeeff5"
   },
   "outputs": [
    {
     "name": "stdout",
     "output_type": "stream",
     "text": [
      "<torch.utils.data.dataloader.DataLoader object at 0x7f639d1e9150>\n",
      "---- Training loaders ----\n",
      "Batch 0: Inputs shape: torch.Size([32, 1000]), Labels shape: torch.Size([32])\n",
      "---- Training loaders ----\n",
      "Batch 1: Inputs shape: torch.Size([32, 1000]), Labels shape: torch.Size([32])\n",
      "---- Training loaders ----\n",
      "Batch 2: Inputs shape: torch.Size([32, 1000]), Labels shape: torch.Size([32])\n",
      "---- Training loaders ----\n",
      "Batch 3: Inputs shape: torch.Size([32, 1000]), Labels shape: torch.Size([32])\n",
      "---- Training loaders ----\n",
      "Batch 4: Inputs shape: torch.Size([32, 1000]), Labels shape: torch.Size([32])\n",
      "---- Training loaders ----\n",
      "Batch 5: Inputs shape: torch.Size([32, 1000]), Labels shape: torch.Size([32])\n",
      "---- Training loaders ----\n",
      "Batch 6: Inputs shape: torch.Size([32, 1000]), Labels shape: torch.Size([32])\n",
      "---- Training loaders ----\n",
      "Batch 7: Inputs shape: torch.Size([32, 1000]), Labels shape: torch.Size([32])\n",
      "---- Training loaders ----\n",
      "Batch 8: Inputs shape: torch.Size([32, 1000]), Labels shape: torch.Size([32])\n",
      "---- Training loaders ----\n",
      "Batch 9: Inputs shape: torch.Size([32, 1000]), Labels shape: torch.Size([32])\n",
      "---- Training loaders ----\n",
      "Batch 10: Inputs shape: torch.Size([32, 1000]), Labels shape: torch.Size([32])\n",
      "---- Training loaders ----\n",
      "Batch 11: Inputs shape: torch.Size([32, 1000]), Labels shape: torch.Size([32])\n",
      "---- Training loaders ----\n",
      "Batch 12: Inputs shape: torch.Size([32, 1000]), Labels shape: torch.Size([32])\n",
      "---- Training loaders ----\n",
      "Batch 13: Inputs shape: torch.Size([32, 1000]), Labels shape: torch.Size([32])\n",
      "---- Training loaders ----\n",
      "Batch 14: Inputs shape: torch.Size([32, 1000]), Labels shape: torch.Size([32])\n",
      "---- Training loaders ----\n",
      "Batch 15: Inputs shape: torch.Size([32, 1000]), Labels shape: torch.Size([32])\n",
      "---- Training loaders ----\n",
      "Batch 16: Inputs shape: torch.Size([32, 1000]), Labels shape: torch.Size([32])\n",
      "---- Training loaders ----\n",
      "Batch 17: Inputs shape: torch.Size([32, 1000]), Labels shape: torch.Size([32])\n",
      "---- Training loaders ----\n",
      "Batch 18: Inputs shape: torch.Size([32, 1000]), Labels shape: torch.Size([32])\n",
      "---- Training loaders ----\n",
      "Batch 19: Inputs shape: torch.Size([32, 1000]), Labels shape: torch.Size([32])\n",
      "---- Training loaders ----\n",
      "Batch 20: Inputs shape: torch.Size([32, 1000]), Labels shape: torch.Size([32])\n"
     ]
    }
   ],
   "source": [
    "print(train_loader)\n",
    "for batch_idx, (inputs, labels) in enumerate(train_loader):\n",
    "\n",
    "    print('---- Training loaders ----')\n",
    "\n",
    "    print(f\"Batch {batch_idx}: Inputs shape: {inputs.shape}, Labels shape: {labels.shape}\")\n",
    "\n",
    "    # print(f\"Batch {batch_idx}: Inputs:\\n{inputs}\")\n",
    "    # print(f\"Batch {batch_idx}: Labels:\\n{labels}\")"
   ]
  },
  {
   "cell_type": "code",
   "execution_count": 52,
   "metadata": {
    "colab": {
     "base_uri": "https://localhost:8080/"
    },
    "id": "yu4QnXn38Cti",
    "outputId": "40908399-92ea-487a-89b3-7bdb0798e594"
   },
   "outputs": [
    {
     "name": "stdout",
     "output_type": "stream",
     "text": [
      "\n",
      "\n",
      "---- Testing loaders ----\n",
      "Batch 0: Inputs shape: torch.Size([32, 1000]), Labels shape: torch.Size([32])\n",
      "\n",
      "\n",
      "---- Testing loaders ----\n",
      "Batch 1: Inputs shape: torch.Size([32, 1000]), Labels shape: torch.Size([32])\n",
      "\n",
      "\n",
      "---- Testing loaders ----\n",
      "Batch 2: Inputs shape: torch.Size([32, 1000]), Labels shape: torch.Size([32])\n",
      "\n",
      "\n",
      "---- Testing loaders ----\n",
      "Batch 3: Inputs shape: torch.Size([32, 1000]), Labels shape: torch.Size([32])\n",
      "\n",
      "\n",
      "---- Testing loaders ----\n",
      "Batch 4: Inputs shape: torch.Size([32, 1000]), Labels shape: torch.Size([32])\n",
      "\n",
      "\n",
      "---- Testing loaders ----\n",
      "Batch 5: Inputs shape: torch.Size([14, 1000]), Labels shape: torch.Size([14])\n"
     ]
    }
   ],
   "source": [
    "for batch_idx, (inputs, labels) in enumerate(test_loader):\n",
    "\n",
    "    print('\\n')\n",
    "    print('---- Testing loaders ----')\n",
    "\n",
    "    print(f\"Batch {batch_idx}: Inputs shape: {inputs.shape}, Labels shape: {labels.shape}\")\n",
    "\n",
    "    # print(f\"Batch {batch_idx}: Inputs:\\n{inputs}\")\n",
    "    # print(f\"Batch {batch_idx}: Labels:\\n{labels}\")"
   ]
  },
  {
   "cell_type": "code",
   "execution_count": 53,
   "metadata": {
    "id": "uFDbpZ5TpUC7"
   },
   "outputs": [],
   "source": [
    "class Net(nn.Module):\n",
    "  \"\"\"\n",
    "  Initialize MLP Network\n",
    "  \"\"\"\n",
    "\n",
    "  def __init__(self, actv, input_feature_num, hidden_unit_nums, output_feature_num):\n",
    "    \"\"\"\n",
    "    Initialize MLP Network parameters\n",
    "\n",
    "    Args:\n",
    "      actv: string\n",
    "        Activation function\n",
    "      input_feature_num: int\n",
    "        Number of input features\n",
    "      hidden_unit_nums: list\n",
    "        Number of units in the hidden layer\n",
    "      output_feature_num: int\n",
    "        Number of output features\n",
    "\n",
    "    Returns:\n",
    "      Nothing\n",
    "    \"\"\"\n",
    "    super(Net, self).__init__()\n",
    "    self.input_feature_num = input_feature_num # Save the input size for reshaping later\n",
    "    self.mlp = nn.Sequential() # Initialize layers of MLP\n",
    "\n",
    "    in_num = input_feature_num # Initialize the temporary input feature to each layer\n",
    "    for i in range(len(hidden_unit_nums)): # Loop over layers and create each one\n",
    "\n",
    "      out_num = hidden_unit_nums[i] # Assign the current layer hidden unit from list\n",
    "      layer = nn.Linear(in_num, out_num) # Use nn.Linear to define the layer\n",
    "      in_num = out_num # Assign next layer input using current layer output\n",
    "      self.mlp.add_module('Linear_%d'%i, layer) # Append layer to the model with a name\n",
    "\n",
    "      actv_layer = eval('nn.%s'%actv) # Assign activation function (eval allows us to instantiate object from string)\n",
    "      self.mlp.add_module('Activation_%d'%i, actv_layer) # Append activation to the model with a name\n",
    "\n",
    "    out_layer = nn.Linear(in_num, output_feature_num) # Create final layer\n",
    "    self.mlp.add_module('Output_Linear', out_layer) # Append the final layer\n",
    "\n",
    "  def forward(self, x):\n",
    "    \"\"\"\n",
    "    Simulate forward pass of MLP Network\n",
    "\n",
    "    Args:\n",
    "      x: torch.tensor\n",
    "        Input data\n",
    "\n",
    "    Returns:\n",
    "      logits: Instance of MLP\n",
    "        Forward pass of MLP\n",
    "    \"\"\"\n",
    "    # Reshape inputs to (batch_size, input_feature_num)\n",
    "    # Just in case the input vector is not 2D, like an image!\n",
    "    x = x.view(-1, self.input_feature_num)\n",
    "\n",
    "    logits = self.mlp(x) # Forward pass of MLP\n",
    "    return logits\n"
   ]
  },
  {
   "cell_type": "code",
   "execution_count": 54,
   "metadata": {
    "id": "RidnrtQHoqh6"
   },
   "outputs": [],
   "source": [
    "def train_test_classification(net, criterion, optimizer, train_loader,\n",
    "                              test_loader, num_epochs=1, verbose=True,\n",
    "                              training_plot=False, device='cpu'):\n",
    "  \"\"\"\n",
    "  Accumulate training loss/Evaluate performance\n",
    "\n",
    "  Args:\n",
    "    net: instance of Net class\n",
    "      Describes the model with ReLU activation, batch size 128\n",
    "    criterion: torch.nn type\n",
    "      Criterion combines LogSoftmax and NLLLoss in one single class.\n",
    "    optimizer: torch.optim type\n",
    "      Implements Adam algorithm.\n",
    "    train_loader: torch.utils.data type\n",
    "      Combines the train dataset and sampler, and provides an iterable over the given dataset.\n",
    "    test_loader: torch.utils.data type\n",
    "      Combines the test dataset and sampler, and provides an iterable over the given dataset.\n",
    "    num_epochs: int\n",
    "      Number of epochs [default: 1]\n",
    "    verbose: boolean\n",
    "      If True, print statistics\n",
    "    training_plot=False\n",
    "      If True, display training plot\n",
    "    device: string\n",
    "      CUDA/GPU if available, CPU otherwise\n",
    "\n",
    "  Returns:\n",
    "    Nothing\n",
    "  \"\"\"\n",
    "  net.train()\n",
    "  training_losses = []\n",
    "  for epoch in tqdm(range(num_epochs)):  # Loop over the dataset multiple times\n",
    "    running_loss = 0.0\n",
    "    for i, data in enumerate(train_loader, 0):\n",
    "      # Get the inputs; data is a list of [inputs, labels]\n",
    "      inputs, labels = data\n",
    "      inputs = inputs.to(device).float()\n",
    "      labels = labels.to(device).long()\n",
    "\n",
    "      # Zero the parameter gradients\n",
    "      optimizer.zero_grad()\n",
    "\n",
    "      # forward + backward + optimize\n",
    "      outputs = net(inputs)\n",
    "\n",
    "      # print(outputs, type(outputs), outputs.shape)\n",
    "      # print(labels.shape, type(labels), labels)\n",
    "\n",
    "      loss = criterion(outputs, labels)\n",
    "      loss.backward()\n",
    "      optimizer.step()\n",
    "\n",
    "      # Print statistics\n",
    "      if verbose:\n",
    "        training_losses += [loss.item()]\n",
    "\n",
    "  net.eval()\n",
    "\n",
    "  def test(data_loader):\n",
    "    \"\"\"\n",
    "    Function to gauge network performance\n",
    "\n",
    "    Args:\n",
    "      data_loader: torch.utils.data type\n",
    "      Combines the test dataset and sampler, and provides an iterable over the given dataset.\n",
    "\n",
    "    Returns:\n",
    "      acc: float\n",
    "        Performance of the network\n",
    "      total: int\n",
    "        Number of datapoints in the dataloader\n",
    "    \"\"\"\n",
    "    correct = 0\n",
    "    total = 0\n",
    "    for data in data_loader:\n",
    "      inputs, labels = data\n",
    "      inputs = inputs.to(device).float()\n",
    "      labels = labels.to(device).long()\n",
    "\n",
    "      outputs = net(inputs)\n",
    "      _, predicted = torch.max(outputs, 1)\n",
    "      total += labels.size(0)\n",
    "      correct += (predicted == labels).sum().item()\n",
    "\n",
    "    acc = 100 * correct / total\n",
    "    return total, acc\n",
    "\n",
    "  train_total, train_acc = test(train_loader)\n",
    "  test_total, test_acc = test(test_loader)\n",
    "\n",
    "  if verbose:\n",
    "    print(f\"Accuracy on the {train_total} training samples: {train_acc:0.2f}\")\n",
    "    print(f\"Accuracy on the {test_total} testing samples: {test_acc:0.2f}\")\n",
    "\n",
    "  if training_plot:\n",
    "    plt.plot(training_losses)\n",
    "    plt.xlabel('Batch')\n",
    "    plt.ylabel('Training loss')\n",
    "    plt.show()\n",
    "\n",
    "  return train_acc, test_acc, training_losses"
   ]
  },
  {
   "cell_type": "code",
   "execution_count": 55,
   "metadata": {
    "colab": {
     "base_uri": "https://localhost:8080/",
     "height": 535,
     "referenced_widgets": [
      "f5f80c163b0c470da6ccd6e4fa623fe7",
      "852a670f72374861a4308df1e728c4ae",
      "f01db571d3c7417e898a1a543d9db74d",
      "9e1832e4c5144ad1aaa8df9ba6150bae",
      "9ca44c9bdb0044e98413cb7847fd82a9",
      "eb8ec1a3c36b43b6aa56d28c26888f5b",
      "bcfe2feb175249a7a22e56cfe6206d5b",
      "55a8c44828964ea4b566a3e402a05f1c",
      "c57dc0412e7440799a227f6c79bd6865",
      "2357b853c22a447ab48e1cf3a6b9abac",
      "c6564f60692741e7927890c7b3affee0"
     ]
    },
    "id": "zjcET8upo3Hn",
    "outputId": "f647b1f7-189f-46ff-abf9-5997517a0ed9"
   },
   "outputs": [
    {
     "name": "stdout",
     "output_type": "stream",
     "text": [
      "Random seed 2021 has been set.\n"
     ]
    },
    {
     "data": {
      "application/vnd.jupyter.widget-view+json": {
       "model_id": "a99509cb9f094de08339730bd0b24fa2",
       "version_major": 2,
       "version_minor": 0
      },
      "text/plain": [
       "  0%|          | 0/100 [00:00<?, ?it/s]"
      ]
     },
     "metadata": {},
     "output_type": "display_data"
    },
    {
     "name": "stdout",
     "output_type": "stream",
     "text": [
      "Accuracy on the 672 training samples: 97.32\n",
      "Accuracy on the 174 testing samples: 64.94\n"
     ]
    },
    {
     "data": {
      "image/png": "[encoded data removed]",
      "text/plain": [
       "<Figure size 640x480 with 1 Axes>"
      ]
     },
     "metadata": {},
     "output_type": "display_data"
    }
   ],
   "source": [
    "set_seed(SEED)\n",
    "net = Net('Tanh()', X_train.shape[1], [1000,600], 2).to(device) #ReLU\n",
    "criterion = nn.CrossEntropyLoss()\n",
    "optimizer = optim.Adam(net.parameters(), lr=0.0005) # 1e-3\n",
    "num_epochs = 100\n",
    "\n",
    "_, _, training_losses = train_test_classification(net, criterion, optimizer, train_loader,\n",
    "                                 test_loader, num_epochs=num_epochs,\n",
    "                                 training_plot=True, device=device)\n"
   ]
  },
  {
   "cell_type": "code",
   "execution_count": null,
   "metadata": {},
   "outputs": [],
   "source": []
  }
 ],
 "metadata": {
  "accelerator": "GPU",
  "colab": {
   "gpuType": "T4",
   "provenance": []
  },
  "kernelspec": {
   "display_name": "Python 3 (ipykernel)",
   "language": "python",
   "name": "python3"
  },
  "language_info": {
   "codemirror_mode": {
    "name": "ipython",
    "version": 3
   },
   "file_extension": ".py",
   "mimetype": "text/x-python",
   "name": "python",
   "nbconvert_exporter": "python",
   "pygments_lexer": "ipython3",
   "version": "3.11.0"
  },
  "widgets": {
   "application/vnd.jupyter.widget-state+json": {
    "03794786c2f1478e81adc504d795f0b0": {
     "model_module": "@jupyter-widgets/controls",
     "model_module_version": "1.5.0",
     "model_name": "HTMLModel",
     "state": {
      "_dom_classes": [],
      "_model_module": "@jupyter-widgets/controls",
      "_model_module_version": "1.5.0",
      "_model_name": "HTMLModel",
      "_view_count": null,
      "_view_module": "@jupyter-widgets/controls",
      "_view_module_version": "1.5.0",
      "_view_name": "HTMLView",
      "description": "",
      "description_tooltip": null,
      "layout": "IPY_MODEL_44447c3624f04cb48413c6cb384c458c",
      "placeholder": "​",
      "style": "IPY_MODEL_d5410daf69ea450297feddfe09d9016a",
      "value": "100%"
     }
    },
    "2357b853c22a447ab48e1cf3a6b9abac": {
     "model_module": "@jupyter-widgets/base",
     "model_module_version": "1.2.0",
     "model_name": "LayoutModel",
     "state": {
      "_model_module": "@jupyter-widgets/base",
      "_model_module_version": "1.2.0",
      "_model_name": "LayoutModel",
      "_view_count": null,
      "_view_module": "@jupyter-widgets/base",
      "_view_module_version": "1.2.0",
      "_view_name": "LayoutView",
      "align_content": null,
      "align_items": null,
      "align_self": null,
      "border": null,
      "bottom": null,
      "display": null,
      "flex": null,
      "flex_flow": null,
      "grid_area": null,
      "grid_auto_columns": null,
      "grid_auto_flow": null,
      "grid_auto_rows": null,
      "grid_column": null,
      "grid_gap": null,
      "grid_row": null,
      "grid_template_areas": null,
      "grid_template_columns": null,
      "grid_template_rows": null,
      "height": null,
      "justify_content": null,
      "justify_items": null,
      "left": null,
      "margin": null,
      "max_height": null,
      "max_width": null,
      "min_height": null,
      "min_width": null,
      "object_fit": null,
      "object_position": null,
      "order": null,
      "overflow": null,
      "overflow_x": null,
      "overflow_y": null,
      "padding": null,
      "right": null,
      "top": null,
      "visibility": null,
      "width": null
     }
    },
    "26af17f022fd4ada88b897c373c35ae8": {
     "model_module": "@jupyter-widgets/controls",
     "model_module_version": "1.5.0",
     "model_name": "DescriptionStyleModel",
     "state": {
      "_model_module": "@jupyter-widgets/controls",
      "_model_module_version": "1.5.0",
      "_model_name": "DescriptionStyleModel",
      "_view_count": null,
      "_view_module": "@jupyter-widgets/base",
      "_view_module_version": "1.2.0",
      "_view_name": "StyleView",
      "description_width": ""
     }
    },
    "44447c3624f04cb48413c6cb384c458c": {
     "model_module": "@jupyter-widgets/base",
     "model_module_version": "1.2.0",
     "model_name": "LayoutModel",
     "state": {
      "_model_module": "@jupyter-widgets/base",
      "_model_module_version": "1.2.0",
      "_model_name": "LayoutModel",
      "_view_count": null,
      "_view_module": "@jupyter-widgets/base",
      "_view_module_version": "1.2.0",
      "_view_name": "LayoutView",
      "align_content": null,
      "align_items": null,
      "align_self": null,
      "border": null,
      "bottom": null,
      "display": null,
      "flex": null,
      "flex_flow": null,
      "grid_area": null,
      "grid_auto_columns": null,
      "grid_auto_flow": null,
      "grid_auto_rows": null,
      "grid_column": null,
      "grid_gap": null,
      "grid_row": null,
      "grid_template_areas": null,
      "grid_template_columns": null,
      "grid_template_rows": null,
      "height": null,
      "justify_content": null,
      "justify_items": null,
      "left": null,
      "margin": null,
      "max_height": null,
      "max_width": null,
      "min_height": null,
      "min_width": null,
      "object_fit": null,
      "object_position": null,
      "order": null,
      "overflow": null,
      "overflow_x": null,
      "overflow_y": null,
      "padding": null,
      "right": null,
      "top": null,
      "visibility": null,
      "width": null
     }
    },
    "4f34f0cc4fcb4886a6956afc7c867a59": {
     "model_module": "@jupyter-widgets/base",
     "model_module_version": "1.2.0",
     "model_name": "LayoutModel",
     "state": {
      "_model_module": "@jupyter-widgets/base",
      "_model_module_version": "1.2.0",
      "_model_name": "LayoutModel",
      "_view_count": null,
      "_view_module": "@jupyter-widgets/base",
      "_view_module_version": "1.2.0",
      "_view_name": "LayoutView",
      "align_content": null,
      "align_items": null,
      "align_self": null,
      "border": null,
      "bottom": null,
      "display": null,
      "flex": null,
      "flex_flow": null,
      "grid_area": null,
      "grid_auto_columns": null,
      "grid_auto_flow": null,
      "grid_auto_rows": null,
      "grid_column": null,
      "grid_gap": null,
      "grid_row": null,
      "grid_template_areas": null,
      "grid_template_columns": null,
      "grid_template_rows": null,
      "height": null,
      "justify_content": null,
      "justify_items": null,
      "left": null,
      "margin": null,
      "max_height": null,
      "max_width": null,
      "min_height": null,
      "min_width": null,
      "object_fit": null,
      "object_position": null,
      "order": null,
      "overflow": null,
      "overflow_x": null,
      "overflow_y": null,
      "padding": null,
      "right": null,
      "top": null,
      "visibility": null,
      "width": null
     }
    },
    "55a8c44828964ea4b566a3e402a05f1c": {
     "model_module": "@jupyter-widgets/base",
     "model_module_version": "1.2.0",
     "model_name": "LayoutModel",
     "state": {
      "_model_module": "@jupyter-widgets/base",
      "_model_module_version": "1.2.0",
      "_model_name": "LayoutModel",
      "_view_count": null,
      "_view_module": "@jupyter-widgets/base",
      "_view_module_version": "1.2.0",
      "_view_name": "LayoutView",
      "align_content": null,
      "align_items": null,
      "align_self": null,
      "border": null,
      "bottom": null,
      "display": null,
      "flex": null,
      "flex_flow": null,
      "grid_area": null,
      "grid_auto_columns": null,
      "grid_auto_flow": null,
      "grid_auto_rows": null,
      "grid_column": null,
      "grid_gap": null,
      "grid_row": null,
      "grid_template_areas": null,
      "grid_template_columns": null,
      "grid_template_rows": null,
      "height": null,
      "justify_content": null,
      "justify_items": null,
      "left": null,
      "margin": null,
      "max_height": null,
      "max_width": null,
      "min_height": null,
      "min_width": null,
      "object_fit": null,
      "object_position": null,
      "order": null,
      "overflow": null,
      "overflow_x": null,
      "overflow_y": null,
      "padding": null,
      "right": null,
      "top": null,
      "visibility": null,
      "width": null
     }
    },
    "6f4b831db8f44682ba02cd3aebba6c4a": {
     "model_module": "@jupyter-widgets/base",
     "model_module_version": "1.2.0",
     "model_name": "LayoutModel",
     "state": {
      "_model_module": "@jupyter-widgets/base",
      "_model_module_version": "1.2.0",
      "_model_name": "LayoutModel",
      "_view_count": null,
      "_view_module": "@jupyter-widgets/base",
      "_view_module_version": "1.2.0",
      "_view_name": "LayoutView",
      "align_content": null,
      "align_items": null,
      "align_self": null,
      "border": null,
      "bottom": null,
      "display": null,
      "flex": null,
      "flex_flow": null,
      "grid_area": null,
      "grid_auto_columns": null,
      "grid_auto_flow": null,
      "grid_auto_rows": null,
      "grid_column": null,
      "grid_gap": null,
      "grid_row": null,
      "grid_template_areas": null,
      "grid_template_columns": null,
      "grid_template_rows": null,
      "height": null,
      "justify_content": null,
      "justify_items": null,
      "left": null,
      "margin": null,
      "max_height": null,
      "max_width": null,
      "min_height": null,
      "min_width": null,
      "object_fit": null,
      "object_position": null,
      "order": null,
      "overflow": null,
      "overflow_x": null,
      "overflow_y": null,
      "padding": null,
      "right": null,
      "top": null,
      "visibility": null,
      "width": null
     }
    },
    "77eb4d60181e4d9a8e8196cdf065a592": {
     "model_module": "@jupyter-widgets/controls",
     "model_module_version": "1.5.0",
     "model_name": "ProgressStyleModel",
     "state": {
      "_model_module": "@jupyter-widgets/controls",
      "_model_module_version": "1.5.0",
      "_model_name": "ProgressStyleModel",
      "_view_count": null,
      "_view_module": "@jupyter-widgets/base",
      "_view_module_version": "1.2.0",
      "_view_name": "StyleView",
      "bar_color": null,
      "description_width": ""
     }
    },
    "852a670f72374861a4308df1e728c4ae": {
     "model_module": "@jupyter-widgets/controls",
     "model_module_version": "1.5.0",
     "model_name": "HTMLModel",
     "state": {
      "_dom_classes": [],
      "_model_module": "@jupyter-widgets/controls",
      "_model_module_version": "1.5.0",
      "_model_name": "HTMLModel",
      "_view_count": null,
      "_view_module": "@jupyter-widgets/controls",
      "_view_module_version": "1.5.0",
      "_view_name": "HTMLView",
      "description": "",
      "description_tooltip": null,
      "layout": "IPY_MODEL_eb8ec1a3c36b43b6aa56d28c26888f5b",
      "placeholder": "​",
      "style": "IPY_MODEL_bcfe2feb175249a7a22e56cfe6206d5b",
      "value": "100%"
     }
    },
    "97e59455599d4132a250b55adf02c56b": {
     "model_module": "@jupyter-widgets/base",
     "model_module_version": "1.2.0",
     "model_name": "LayoutModel",
     "state": {
      "_model_module": "@jupyter-widgets/base",
      "_model_module_version": "1.2.0",
      "_model_name": "LayoutModel",
      "_view_count": null,
      "_view_module": "@jupyter-widgets/base",
      "_view_module_version": "1.2.0",
      "_view_name": "LayoutView",
      "align_content": null,
      "align_items": null,
      "align_self": null,
      "border": null,
      "bottom": null,
      "display": null,
      "flex": null,
      "flex_flow": null,
      "grid_area": null,
      "grid_auto_columns": null,
      "grid_auto_flow": null,
      "grid_auto_rows": null,
      "grid_column": null,
      "grid_gap": null,
      "grid_row": null,
      "grid_template_areas": null,
      "grid_template_columns": null,
      "grid_template_rows": null,
      "height": null,
      "justify_content": null,
      "justify_items": null,
      "left": null,
      "margin": null,
      "max_height": null,
      "max_width": null,
      "min_height": null,
      "min_width": null,
      "object_fit": null,
      "object_position": null,
      "order": null,
      "overflow": null,
      "overflow_x": null,
      "overflow_y": null,
      "padding": null,
      "right": null,
      "top": null,
      "visibility": null,
      "width": null
     }
    },
    "9ca44c9bdb0044e98413cb7847fd82a9": {
     "model_module": "@jupyter-widgets/base",
     "model_module_version": "1.2.0",
     "model_name": "LayoutModel",
     "state": {
      "_model_module": "@jupyter-widgets/base",
      "_model_module_version": "1.2.0",
      "_model_name": "LayoutModel",
      "_view_count": null,
      "_view_module": "@jupyter-widgets/base",
      "_view_module_version": "1.2.0",
      "_view_name": "LayoutView",
      "align_content": null,
      "align_items": null,
      "align_self": null,
      "border": null,
      "bottom": null,
      "display": null,
      "flex": null,
      "flex_flow": null,
      "grid_area": null,
      "grid_auto_columns": null,
      "grid_auto_flow": null,
      "grid_auto_rows": null,
      "grid_column": null,
      "grid_gap": null,
      "grid_row": null,
      "grid_template_areas": null,
      "grid_template_columns": null,
      "grid_template_rows": null,
      "height": null,
      "justify_content": null,
      "justify_items": null,
      "left": null,
      "margin": null,
      "max_height": null,
      "max_width": null,
      "min_height": null,
      "min_width": null,
      "object_fit": null,
      "object_position": null,
      "order": null,
      "overflow": null,
      "overflow_x": null,
      "overflow_y": null,
      "padding": null,
      "right": null,
      "top": null,
      "visibility": null,
      "width": null
     }
    },
    "9e1832e4c5144ad1aaa8df9ba6150bae": {
     "model_module": "@jupyter-widgets/controls",
     "model_module_version": "1.5.0",
     "model_name": "HTMLModel",
     "state": {
      "_dom_classes": [],
      "_model_module": "@jupyter-widgets/controls",
      "_model_module_version": "1.5.0",
      "_model_name": "HTMLModel",
      "_view_count": null,
      "_view_module": "@jupyter-widgets/controls",
      "_view_module_version": "1.5.0",
      "_view_name": "HTMLView",
      "description": "",
      "description_tooltip": null,
      "layout": "IPY_MODEL_2357b853c22a447ab48e1cf3a6b9abac",
      "placeholder": "​",
      "style": "IPY_MODEL_c6564f60692741e7927890c7b3affee0",
      "value": " 100/100 [00:06&lt;00:00, 12.42it/s]"
     }
    },
    "a15bb6bf64e740a9b7dc0a8547c41b55": {
     "model_module": "@jupyter-widgets/controls",
     "model_module_version": "1.5.0",
     "model_name": "HBoxModel",
     "state": {
      "_dom_classes": [],
      "_model_module": "@jupyter-widgets/controls",
      "_model_module_version": "1.5.0",
      "_model_name": "HBoxModel",
      "_view_count": null,
      "_view_module": "@jupyter-widgets/controls",
      "_view_module_version": "1.5.0",
      "_view_name": "HBoxView",
      "box_style": "",
      "children": [
       "IPY_MODEL_03794786c2f1478e81adc504d795f0b0",
       "IPY_MODEL_a865684cce4140e28be74104ae82674b",
       "IPY_MODEL_b3a4ff51afb24593999b6a9ef83eeada"
      ],
      "layout": "IPY_MODEL_6f4b831db8f44682ba02cd3aebba6c4a"
     }
    },
    "a865684cce4140e28be74104ae82674b": {
     "model_module": "@jupyter-widgets/controls",
     "model_module_version": "1.5.0",
     "model_name": "FloatProgressModel",
     "state": {
      "_dom_classes": [],
      "_model_module": "@jupyter-widgets/controls",
      "_model_module_version": "1.5.0",
      "_model_name": "FloatProgressModel",
      "_view_count": null,
      "_view_module": "@jupyter-widgets/controls",
      "_view_module_version": "1.5.0",
      "_view_name": "ProgressView",
      "bar_style": "success",
      "description": "",
      "description_tooltip": null,
      "layout": "IPY_MODEL_97e59455599d4132a250b55adf02c56b",
      "max": 172,
      "min": 0,
      "orientation": "horizontal",
      "style": "IPY_MODEL_77eb4d60181e4d9a8e8196cdf065a592",
      "value": 172
     }
    },
    "b3a4ff51afb24593999b6a9ef83eeada": {
     "model_module": "@jupyter-widgets/controls",
     "model_module_version": "1.5.0",
     "model_name": "HTMLModel",
     "state": {
      "_dom_classes": [],
      "_model_module": "@jupyter-widgets/controls",
      "_model_module_version": "1.5.0",
      "_model_name": "HTMLModel",
      "_view_count": null,
      "_view_module": "@jupyter-widgets/controls",
      "_view_module_version": "1.5.0",
      "_view_name": "HTMLView",
      "description": "",
      "description_tooltip": null,
      "layout": "IPY_MODEL_4f34f0cc4fcb4886a6956afc7c867a59",
      "placeholder": "​",
      "style": "IPY_MODEL_26af17f022fd4ada88b897c373c35ae8",
      "value": " 172/172 [02:23&lt;00:00,  1.50it/s]"
     }
    },
    "bcfe2feb175249a7a22e56cfe6206d5b": {
     "model_module": "@jupyter-widgets/controls",
     "model_module_version": "1.5.0",
     "model_name": "DescriptionStyleModel",
     "state": {
      "_model_module": "@jupyter-widgets/controls",
      "_model_module_version": "1.5.0",
      "_model_name": "DescriptionStyleModel",
      "_view_count": null,
      "_view_module": "@jupyter-widgets/base",
      "_view_module_version": "1.2.0",
      "_view_name": "StyleView",
      "description_width": ""
     }
    },
    "c57dc0412e7440799a227f6c79bd6865": {
     "model_module": "@jupyter-widgets/controls",
     "model_module_version": "1.5.0",
     "model_name": "ProgressStyleModel",
     "state": {
      "_model_module": "@jupyter-widgets/controls",
      "_model_module_version": "1.5.0",
      "_model_name": "ProgressStyleModel",
      "_view_count": null,
      "_view_module": "@jupyter-widgets/base",
      "_view_module_version": "1.2.0",
      "_view_name": "StyleView",
      "bar_color": null,
      "description_width": ""
     }
    },
    "c6564f60692741e7927890c7b3affee0": {
     "model_module": "@jupyter-widgets/controls",
     "model_module_version": "1.5.0",
     "model_name": "DescriptionStyleModel",
     "state": {
      "_model_module": "@jupyter-widgets/controls",
      "_model_module_version": "1.5.0",
      "_model_name": "DescriptionStyleModel",
      "_view_count": null,
      "_view_module": "@jupyter-widgets/base",
      "_view_module_version": "1.2.0",
      "_view_name": "StyleView",
      "description_width": ""
     }
    },
    "d5410daf69ea450297feddfe09d9016a": {
     "model_module": "@jupyter-widgets/controls",
     "model_module_version": "1.5.0",
     "model_name": "DescriptionStyleModel",
     "state": {
      "_model_module": "@jupyter-widgets/controls",
      "_model_module_version": "1.5.0",
      "_model_name": "DescriptionStyleModel",
      "_view_count": null,
      "_view_module": "@jupyter-widgets/base",
      "_view_module_version": "1.2.0",
      "_view_name": "StyleView",
      "description_width": ""
     }
    },
    "eb8ec1a3c36b43b6aa56d28c26888f5b": {
     "model_module": "@jupyter-widgets/base",
     "model_module_version": "1.2.0",
     "model_name": "LayoutModel",
     "state": {
      "_model_module": "@jupyter-widgets/base",
      "_model_module_version": "1.2.0",
      "_model_name": "LayoutModel",
      "_view_count": null,
      "_view_module": "@jupyter-widgets/base",
      "_view_module_version": "1.2.0",
      "_view_name": "LayoutView",
      "align_content": null,
      "align_items": null,
      "align_self": null,
      "border": null,
      "bottom": null,
      "display": null,
      "flex": null,
      "flex_flow": null,
      "grid_area": null,
      "grid_auto_columns": null,
      "grid_auto_flow": null,
      "grid_auto_rows": null,
      "grid_column": null,
      "grid_gap": null,
      "grid_row": null,
      "grid_template_areas": null,
      "grid_template_columns": null,
      "grid_template_rows": null,
      "height": null,
      "justify_content": null,
      "justify_items": null,
      "left": null,
      "margin": null,
      "max_height": null,
      "max_width": null,
      "min_height": null,
      "min_width": null,
      "object_fit": null,
      "object_position": null,
      "order": null,
      "overflow": null,
      "overflow_x": null,
      "overflow_y": null,
      "padding": null,
      "right": null,
      "top": null,
      "visibility": null,
      "width": null
     }
    },
    "f01db571d3c7417e898a1a543d9db74d": {
     "model_module": "@jupyter-widgets/controls",
     "model_module_version": "1.5.0",
     "model_name": "FloatProgressModel",
     "state": {
      "_dom_classes": [],
      "_model_module": "@jupyter-widgets/controls",
      "_model_module_version": "1.5.0",
      "_model_name": "FloatProgressModel",
      "_view_count": null,
      "_view_module": "@jupyter-widgets/controls",
      "_view_module_version": "1.5.0",
      "_view_name": "ProgressView",
      "bar_style": "success",
      "description": "",
      "description_tooltip": null,
      "layout": "IPY_MODEL_55a8c44828964ea4b566a3e402a05f1c",
      "max": 100,
      "min": 0,
      "orientation": "horizontal",
      "style": "IPY_MODEL_c57dc0412e7440799a227f6c79bd6865",
      "value": 100
     }
    },
    "f5f80c163b0c470da6ccd6e4fa623fe7": {
     "model_module": "@jupyter-widgets/controls",
     "model_module_version": "1.5.0",
     "model_name": "HBoxModel",
     "state": {
      "_dom_classes": [],
      "_model_module": "@jupyter-widgets/controls",
      "_model_module_version": "1.5.0",
      "_model_name": "HBoxModel",
      "_view_count": null,
      "_view_module": "@jupyter-widgets/controls",
      "_view_module_version": "1.5.0",
      "_view_name": "HBoxView",
      "box_style": "",
      "children": [
       "IPY_MODEL_852a670f72374861a4308df1e728c4ae",
       "IPY_MODEL_f01db571d3c7417e898a1a543d9db74d",
       "IPY_MODEL_9e1832e4c5144ad1aaa8df9ba6150bae"
      ],
      "layout": "IPY_MODEL_9ca44c9bdb0044e98413cb7847fd82a9"
     }
    }
   }
  }
 },
 "nbformat": 4,
 "nbformat_minor": 4
}
