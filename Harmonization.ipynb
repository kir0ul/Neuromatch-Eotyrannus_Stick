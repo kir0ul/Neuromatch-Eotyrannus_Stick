{
 "cells": [
  {
   "cell_type": "markdown",
   "metadata": {},
   "source": [
    "# HARMONIZATION WITH NEUROHARMONIZE "
   ]
  },
  {
   "cell_type": "markdown",
   "metadata": {},
   "source": [
    "https://github.com/rpomponio/neuroHarmonize"
   ]
  },
  {
   "cell_type": "code",
   "execution_count": 1,
   "metadata": {},
   "outputs": [
    {
     "name": "stdout",
     "output_type": "stream",
     "text": [
      "Requirement already satisfied: neuroHarmonize in h:\\semestres_udea\\semestre_2023_ii\\neuromatchacademy-dl\\neuromatch-eotyrannus_stick\\neuromatch_env\\lib\\site-packages (2.1.0)\n",
      "Note: you may need to restart the kernel to use updated packages.\n"
     ]
    },
    {
     "name": "stderr",
     "output_type": "stream",
     "text": [
      "ERROR: Could not find a version that satisfies the requirement stastsmodels (from versions: none)\n",
      "ERROR: No matching distribution found for stastsmodels\n"
     ]
    },
    {
     "name": "stdout",
     "output_type": "stream",
     "text": [
      "Note: you may need to restart the kernel to use updated packages.\n"
     ]
    }
   ],
   "source": [
    "import pandas as pd\n",
    "import numpy as np\n",
    "\n",
    "%pip install neuroHarmonize\n",
    "%pip install stastsmodels\n",
    "\n",
    "from neuroHarmonize import harmonizationLearn"
   ]
  },
  {
   "cell_type": "code",
   "execution_count": 2,
   "metadata": {},
   "outputs": [],
   "source": [
    "def corr_matrix_harmonization(corr, cov, smooth_terms: list = [], v: bool = 0):\n",
    "\n",
    "    \"\"\"\n",
    "\n",
    "    :param corr: Correlation matrix this can be 2D (rows, columns) or 3D (subjects, rows, columns)\n",
    "\n",
    "    :param cov: pandas.DataFrame with the covariables. All covariates must be encoded numerically\n",
    "     (you must handle categorical covariates in a pre-processing step, see pandas.get_dummies).\n",
    "     The DataFrame must also contain a single column called \"SITE\" with labels that identify\n",
    "     sites (the labels in \"SITE\" need not be numeric)\n",
    "     \n",
    "    :param smooth_terms: specifying nonlinear co variate effects, it's a list with the terms.\n",
    "    For example, you may want to specify age as a nonlinear term in the harmonization model,\n",
    "     if age exhibits nonlinear relationships with brain volumes or any variable smooth_terms=['AGE'].\n",
    "\n",
    "    :param v: bool, version to use in the correlation matrix harmonization.\n",
    "    {0: takes the full matrix, 1: takes only the triangular and the other values are set to 0}\n",
    "    \n",
    "    :return: Harmonized Correlation Matrix, the same dimension as the input\n",
    "\n",
    "    \"\"\"\n",
    "\n",
    "    subj_corr = np.empty((0, 0), float)\n",
    "    m_flat_row = np.zeros((0, corr.shape[1]*corr.shape[1]))\n",
    "    for i in range(len(corr)):\n",
    "        if v:\n",
    "            # Only select a triangular matrix and the other values is 0\n",
    "            #matriz_triu = np.triu(corr, k=0)\n",
    "            matriz_tril = np.tril(corr[i], k=0)\n",
    "            matriz_diag = np.diag(np.diag(corr[i]))\n",
    "            matriz_dim = corr[i].shape[0]\n",
    "            m_flat_column = matriz_tril.flatten()\n",
    "            m_flat_row = np.vstack((m_flat_row, m_flat_column.reshape(1, -1)))\n",
    "        else:\n",
    "            # Full matrix\n",
    "            matriz_column = corr[i].flatten()\n",
    "            matriz_dim = corr[i].shape[0]\n",
    "            matriz_row = matriz_column.reshape(1, -1)\n",
    "            m_flat_row = np.vstack((m_flat_row, matriz_row))\n",
    "    if corr.shape[1] <= 10:\n",
    "        # ComBat don't use Empirical Bayes when the harmonization is made with a small number of features\n",
    "        if smooth_terms:\n",
    "            my_model, my_data_adj = harmonizationLearn(m_flat_row, cov, smooth_terms, eb=False)\n",
    "        else:\n",
    "            my_model, my_data_adj = harmonizationLearn(m_flat_row, cov, eb=False)\n",
    "    else:\n",
    "        # ComBat uses Empirical Bayes to fit a prior distribution for the site effects for each site\n",
    "        if smooth_terms:\n",
    "            my_model, my_data_adj = harmonizationLearn(m_flat_row, cov, smooth_terms)\n",
    "        else:\n",
    "            my_model, my_data_adj = harmonizationLearn(m_flat_row, cov)\n",
    "    if v:\n",
    "        matriz_orig = m_flat_row.reshape(matriz_dim, matriz_dim)\n",
    "        matriz_orig = matriz_orig + matriz_orig.T - matriz_diag\n",
    "    else:\n",
    "        matriz_orig = my_data_adj.reshape(corr.shape[0], corr.shape[1], corr.shape[2])\n",
    "\n",
    "    return my_model, matriz_orig"
   ]
  },
  {
   "cell_type": "code",
   "execution_count": null,
   "metadata": {},
   "outputs": [],
   "source": [
    "cov_features = phen_abide[['SITE_ID','SEX', 'AGE_AT_SCAN']]\n",
    "cov_features.rename(columns = {'SITE_ID':'SITE'}, inplace = True)\n",
    "\n",
    "\n",
    "my_model, correlation_matrices_harmonized = corr_matrix_harmonization(corr=corrpearson_subjects.T,\n",
    "                                                                              cov=cov_features,\n",
    "                                                                              v=0)\n"
   ]
  }
 ],
 "metadata": {
  "kernelspec": {
   "display_name": "neuromatch_env",
   "language": "python",
   "name": "python3"
  },
  "language_info": {
   "codemirror_mode": {
    "name": "ipython",
    "version": 3
   },
   "file_extension": ".py",
   "mimetype": "text/x-python",
   "name": "python",
   "nbconvert_exporter": "python",
   "pygments_lexer": "ipython3",
   "version": "3.10.5"
  },
  "orig_nbformat": 4
 },
 "nbformat": 4,
 "nbformat_minor": 2
}
